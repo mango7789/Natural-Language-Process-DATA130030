{
 "cells": [
  {
   "cell_type": "code",
   "execution_count": 14,
   "id": "68156454",
   "metadata": {
    "execution": {
     "iopub.execute_input": "2024-05-29T09:25:56.731773Z",
     "iopub.status.busy": "2024-05-29T09:25:56.731007Z",
     "iopub.status.idle": "2024-05-29T09:25:56.735854Z",
     "shell.execute_reply": "2024-05-29T09:25:56.735047Z"
    },
    "papermill": {
     "duration": 0.016302,
     "end_time": "2024-05-29T09:25:56.737844",
     "exception": false,
     "start_time": "2024-05-29T09:25:56.721542",
     "status": "completed"
    },
    "tags": []
   },
   "outputs": [],
   "source": [
    "# --- Before your go ----\n",
    "# 1. Rename Assignment-03-###.ipynb where ### is your student ID.\n",
    "# 2. The deadline of Assignment-03 is 23:59pm, 06-05-2024\n",
    "\n",
    "\n",
    "# --- Explore HMM POS Taggers using Brown corpus ---\n",
    "# In this assignment, you will explore three taggers for a Brown corpus.\n",
    "# import your packages here\n",
    "import torch\n",
    "import warnings\n",
    "import numpy as np\n",
    "from tqdm import tqdm\n",
    "from nltk.tag import hmm\n",
    "from nltk.probability import MLEProbDist, ConditionalFreqDist, ConditionalProbDist, FreqDist\n",
    "from collections import defaultdict, Counter\n",
    "from transformers import BertTokenizer, BertForTokenClassification\n",
    "from torch.utils.data import TensorDataset, DataLoader\n",
    "from torch.nn import CrossEntropyLoss\n",
    "from transformers import AdamW\n",
    "from typing import List, Dict, Tuple"
   ]
  },
  {
   "cell_type": "code",
   "execution_count": 2,
   "id": "7608199c",
   "metadata": {
    "execution": {
     "iopub.execute_input": "2024-05-29T09:25:56.754045Z",
     "iopub.status.busy": "2024-05-29T09:25:56.753794Z",
     "iopub.status.idle": "2024-05-29T09:25:56.757786Z",
     "shell.execute_reply": "2024-05-29T09:25:56.756911Z"
    },
    "papermill": {
     "duration": 0.01427,
     "end_time": "2024-05-29T09:25:56.759841",
     "exception": false,
     "start_time": "2024-05-29T09:25:56.745571",
     "status": "completed"
    },
    "tags": []
   },
   "outputs": [],
   "source": [
    "\n",
    "# Task 1 --- Load and explore your data ---\n",
    "# 1). load train/test samples from Brown corpus files, brown-train.txt, brown-test.txt.\n",
    "# 2). load all 12 tags from brown-tag.txt and print it out\n",
    "# 3). counting how many sentences and words in both train and test datasets.\n",
    "# 4). for each tag, counting how many words in train and test. e.g, tag1: [count_tr, count_te]\n",
    "\n",
    "# Your code"
   ]
  },
  {
   "cell_type": "markdown",
   "id": "da9c35a9",
   "metadata": {
    "papermill": {
     "duration": 0.006967,
     "end_time": "2024-05-29T09:25:56.775232",
     "exception": false,
     "start_time": "2024-05-29T09:25:56.768265",
     "status": "completed"
    },
    "tags": []
   },
   "source": [
    "### 1.1 Load train/test samples"
   ]
  },
  {
   "cell_type": "code",
   "execution_count": 1,
   "id": "768594bd",
   "metadata": {
    "execution": {
     "iopub.execute_input": "2024-05-29T09:25:56.791198Z",
     "iopub.status.busy": "2024-05-29T09:25:56.790927Z",
     "iopub.status.idle": "2024-05-29T09:25:57.193457Z",
     "shell.execute_reply": "2024-05-29T09:25:57.192644Z"
    },
    "papermill": {
     "duration": 0.412759,
     "end_time": "2024-05-29T09:25:57.195651",
     "exception": false,
     "start_time": "2024-05-29T09:25:56.782892",
     "status": "completed"
    },
    "tags": []
   },
   "outputs": [],
   "source": [
    "def open_brown_files(type: str) -> Tuple[List]:\n",
    "    \"\"\"\n",
    "    Open the Brown corpus files based on the given type.\n",
    "    \n",
    "    Args:\n",
    "    - type: The type of the Brown corpus, should be in ['train', 'test', 'tag'].\n",
    "    \n",
    "    Return:\n",
    "    - content: The content of the corpus.\n",
    "    \"\"\"\n",
    "    assert type in ['train', 'test', 'tag']\n",
    "    \n",
    "    # open the corpus file and read header/content from it\n",
    "    with open(\"brown-{}.txt\".format(type), 'r', encoding='utf-8') as f:\n",
    "        content = [line.strip() for line in f.readlines()]\n",
    "            \n",
    "    return content\n",
    "        \n",
    "def sentence_head_end(line: str) -> bool:\n",
    "    \"\"\"\n",
    "    Return True if the line is the head or the end of a sentence.\n",
    "    \"\"\"\n",
    "    return line.startswith(\"b100-\") or line == ''\n",
    "\n",
    "train_content = open_brown_files('train')\n",
    "test_content = open_brown_files('test')"
   ]
  },
  {
   "cell_type": "markdown",
   "id": "d732351f",
   "metadata": {
    "papermill": {
     "duration": 0.007049,
     "end_time": "2024-05-29T09:25:57.209953",
     "exception": false,
     "start_time": "2024-05-29T09:25:57.202904",
     "status": "completed"
    },
    "tags": []
   },
   "source": [
    "### 1.2 Load all tags"
   ]
  },
  {
   "cell_type": "code",
   "execution_count": 2,
   "id": "cd3f8de2",
   "metadata": {
    "execution": {
     "iopub.execute_input": "2024-05-29T09:25:57.225119Z",
     "iopub.status.busy": "2024-05-29T09:25:57.224826Z",
     "iopub.status.idle": "2024-05-29T09:25:57.232343Z",
     "shell.execute_reply": "2024-05-29T09:25:57.231444Z"
    },
    "papermill": {
     "duration": 0.017507,
     "end_time": "2024-05-29T09:25:57.234335",
     "exception": false,
     "start_time": "2024-05-29T09:25:57.216828",
     "status": "completed"
    },
    "tags": []
   },
   "outputs": [
    {
     "name": "stdout",
     "output_type": "stream",
     "text": [
      "['.', 'ADJ', 'ADP', 'ADV', 'CONJ', 'DET', 'NOUN', 'NUM', 'PRON', 'PRT', 'VERB', 'X']\n"
     ]
    }
   ],
   "source": [
    "tag_content = open_brown_files('tag')\n",
    "print(tag_content)"
   ]
  },
  {
   "cell_type": "markdown",
   "id": "1c578614",
   "metadata": {
    "papermill": {
     "duration": 0.006783,
     "end_time": "2024-05-29T09:25:57.248260",
     "exception": false,
     "start_time": "2024-05-29T09:25:57.241477",
     "status": "completed"
    },
    "tags": []
   },
   "source": [
    "### 1.3 Count sentences and words"
   ]
  },
  {
   "cell_type": "code",
   "execution_count": 3,
   "id": "589f82c7",
   "metadata": {
    "execution": {
     "iopub.execute_input": "2024-05-29T09:25:57.263471Z",
     "iopub.status.busy": "2024-05-29T09:25:57.263229Z",
     "iopub.status.idle": "2024-05-29T09:25:58.054756Z",
     "shell.execute_reply": "2024-05-29T09:25:58.053590Z"
    },
    "papermill": {
     "duration": 0.801676,
     "end_time": "2024-05-29T09:25:58.057015",
     "exception": false,
     "start_time": "2024-05-29T09:25:57.255339",
     "status": "completed"
    },
    "tags": []
   },
   "outputs": [
    {
     "name": "stdout",
     "output_type": "stream",
     "text": [
      "type   |  sentences  |   words\n",
      "==============================\n",
      "train  |    45800    |  810604\n",
      "test   |    11540    |  203023\n"
     ]
    }
   ],
   "source": [
    "INTERVAL = \" \" * 2 + \"|\" + \" \" * 2\n",
    "\n",
    "def count_sentence_word(content: List[str]) -> Tuple[int]:\n",
    "    \"\"\"\n",
    "    Count the number of sentences and words in the given content.\n",
    "    \n",
    "    Args:\n",
    "    - content: A list of string returned by the function `open_brown_files`.\n",
    "    \n",
    "    Return:\n",
    "    - num_sentence: The number of sentences in the given content.\n",
    "    - num_word: The number of words in the given content.\n",
    "    \"\"\"\n",
    "    num_sentence, num_word = 0, 0\n",
    "    \n",
    "    for line in content:\n",
    "        # if the line startwith \"b100-\", then it's the start of a sentence\n",
    "        if line.startswith('b100-'):\n",
    "            num_sentence += 1\n",
    "            continue\n",
    "        # if line is empty, then the we reach the end of a sentence\n",
    "        if line == '':\n",
    "            continue\n",
    "        # if the tag is not '.', then the text in the line is a word\n",
    "        tag = line.split('\\t')[1]\n",
    "        if tag != '.':\n",
    "            num_word += 1\n",
    "    return num_sentence, num_word\n",
    "    \n",
    "train_sentence, train_word = count_sentence_word(train_content)\n",
    "test_sentence, test_word = count_sentence_word(test_content)\n",
    "\n",
    "# print the results\n",
    "print(\"type \" + INTERVAL + \"sentences\" + INTERVAL + \" words\")\n",
    "print(\"=\" * 30)\n",
    "print(\"train\" + INTERVAL + f\"{train_sentence:^9}\" + INTERVAL + f\"{train_word:^5}\") \n",
    "print(\"test \" + INTERVAL + f\"{test_sentence:^9}\" + INTERVAL + f\"{test_word:^5}\") "
   ]
  },
  {
   "cell_type": "markdown",
   "id": "2b5355f0",
   "metadata": {
    "papermill": {
     "duration": 0.007411,
     "end_time": "2024-05-29T09:25:58.071956",
     "exception": false,
     "start_time": "2024-05-29T09:25:58.064545",
     "status": "completed"
    },
    "tags": []
   },
   "source": [
    "### 1.4 Count frequency of each tag\n",
    "\n",
    "From the result we can find that the distribution of different tags are similar in train and test corpus."
   ]
  },
  {
   "cell_type": "code",
   "execution_count": 4,
   "id": "57dd359e",
   "metadata": {
    "execution": {
     "iopub.execute_input": "2024-05-29T09:25:58.087613Z",
     "iopub.status.busy": "2024-05-29T09:25:58.087316Z",
     "iopub.status.idle": "2024-05-29T09:25:59.107393Z",
     "shell.execute_reply": "2024-05-29T09:25:59.106386Z"
    },
    "papermill": {
     "duration": 1.03016,
     "end_time": "2024-05-29T09:25:59.109494",
     "exception": false,
     "start_time": "2024-05-29T09:25:58.079334",
     "status": "completed"
    },
    "tags": []
   },
   "outputs": [
    {
     "name": "stdout",
     "output_type": "stream",
     "text": [
      " Tag  [count_tr, count_te]\n",
      "==========================\n",
      "   .: [  117723,    29842]\n",
      " ADJ: [   66985,    16736]\n",
      " ADP: [  115752,    29014]\n",
      " ADV: [   44765,    11474]\n",
      "CONJ: [   30455,     7696]\n",
      " DET: [  109418,    27601]\n",
      "NOUN: [  220451,    55107]\n",
      " NUM: [   11921,     2953]\n",
      "PRON: [   39657,     9677]\n",
      " PRT: [   23889,     5940]\n",
      "VERB: [  146199,    36551]\n",
      "   X: [    1112,      274]\n"
     ]
    }
   ],
   "source": [
    "def count_frequency_tag(content: List[str]) -> Dict:\n",
    "    \"\"\"\n",
    "    Count the ocurr frequency of each tag in the given content.\n",
    "    \n",
    "    Args:\n",
    "    - content: A list of string returned by the function `open_brown_files`.\n",
    "    \n",
    "    Return:\n",
    "    - tag_count: A dict containing the information of frequency of each tag.\n",
    "    \"\"\"\n",
    "    tag_count = {tag: 0 for tag in tag_content}\n",
    "    \n",
    "    for line in content:\n",
    "        if sentence_head_end(line):\n",
    "            continue\n",
    "        curr_tag = line.split('\\t')[1]\n",
    "        tag_count[curr_tag] += 1\n",
    "        \n",
    "    return tag_count\n",
    "\n",
    "train_tag_freq = count_frequency_tag(train_content)\n",
    "test_tag_freq = count_frequency_tag(test_content)\n",
    "\n",
    "print(\" Tag\" + \" \" * 2 + \"[count_tr, count_te]\")\n",
    "print(\"=\" * 26)\n",
    "for tag in tag_content:\n",
    "    print(\"{:>4}: [{:>8}, {:>8}]\".format(tag, train_tag_freq[tag], test_tag_freq[tag]))\n"
   ]
  },
  {
   "cell_type": "code",
   "execution_count": 7,
   "id": "06104ca1",
   "metadata": {
    "execution": {
     "iopub.execute_input": "2024-05-29T09:25:59.126529Z",
     "iopub.status.busy": "2024-05-29T09:25:59.125904Z",
     "iopub.status.idle": "2024-05-29T09:25:59.130405Z",
     "shell.execute_reply": "2024-05-29T09:25:59.129539Z"
    },
    "papermill": {
     "duration": 0.014943,
     "end_time": "2024-05-29T09:25:59.132234",
     "exception": false,
     "start_time": "2024-05-29T09:25:59.117291",
     "status": "completed"
    },
    "tags": []
   },
   "outputs": [],
   "source": [
    "# Task 2 --- Method 1: Build a baseline method, namely, the most frequent tagger ---\n",
    "#     If you can recall, we introduced a strong baseline method (See Dan's book in \n",
    "# https://web.stanford.edu/~jurafsky/slp3/ed3book_jan72023.pdf Page 164.),\n",
    "#     where we label each word by using the most frequent-used tag associated with it.\n",
    "# 1). find the most frequent class label for each word in the training data.\n",
    "#     For example, {tr_word_1:tag_1,tr_word_2:tag_2,...}\n",
    "# 2). use your built method to predict tags for both train and test datasets.\n",
    "#     You should print out two values: the accuracies of train and test samples.\n",
    "#     You would expect that the accuracy on train will be > 0.9 (but never = 1.0) and higher than on test.\n",
    "\n",
    "# Notice: since there are unkown words in test samples. \n",
    "#  Following ways could handle this (choose one or create your own): \n",
    "#  1). mark all words that appear only once in the data with a \"UNK-x\" tag\n",
    "#  2). tag every out-of-vocabulary word with the majority tag among all training samples.\n",
    "#  3). find more methods in https://github.com/Adamouization/POS-Tagging-and-Unknown-Words\n",
    "\n",
    "# Your code"
   ]
  },
  {
   "cell_type": "markdown",
   "id": "0a90fffc",
   "metadata": {
    "papermill": {
     "duration": 0.007626,
     "end_time": "2024-05-29T09:25:59.148043",
     "exception": false,
     "start_time": "2024-05-29T09:25:59.140417",
     "status": "completed"
    },
    "tags": []
   },
   "source": [
    "### 2.1 Build the `MostFreqTagger` class  "
   ]
  },
  {
   "cell_type": "code",
   "execution_count": 5,
   "id": "528eea34",
   "metadata": {
    "execution": {
     "iopub.execute_input": "2024-05-29T09:25:59.163759Z",
     "iopub.status.busy": "2024-05-29T09:25:59.163505Z",
     "iopub.status.idle": "2024-05-29T09:25:59.198022Z",
     "shell.execute_reply": "2024-05-29T09:25:59.197207Z"
    },
    "papermill": {
     "duration": 0.044567,
     "end_time": "2024-05-29T09:25:59.199895",
     "exception": false,
     "start_time": "2024-05-29T09:25:59.155328",
     "status": "completed"
    },
    "tags": []
   },
   "outputs": [],
   "source": [
    "class MostFreqTagger:\n",
    "        \n",
    "    def __init__(self) -> None:\n",
    "        self.tags = tag_content\n",
    "        self.vocabulary = {}\n",
    "        self._tag_matrix = None\n",
    "        self.word_tag = {}\n",
    "        self._appear_once_tag = 'UNK-x'\n",
    "        self._most_freq_tag = None\n",
    "    \n",
    "    def _dict_to_matrix(self, vocabulary: Dict) -> np.array:\n",
    "        \"\"\"\n",
    "        Convert the 2-d hierarchy dictionary of vocabulary into a 2-d numpy matrix for better\n",
    "        processing in training and testing procedure of the model later.\n",
    "        \"\"\"\n",
    "        tag_matrix = np.zeros((len(vocabulary), len(self.tags)))\n",
    "        for i, word in enumerate(vocabulary):\n",
    "            for j, tag in enumerate(self.tags):\n",
    "                tag_matrix[i, j] = vocabulary[word][tag]\n",
    "        return tag_matrix\n",
    "    \n",
    "    def _find_word_tag(self):\n",
    "        \"\"\"\n",
    "        Find the most frequent class label for each word in the training data.\n",
    "        \"\"\"\n",
    "        tag_indices = np.argmax(self._tag_matrix, axis=1)\n",
    "        self.word_tag = {\n",
    "            vocab: self.tags[tag_indices[i]] for i, vocab in enumerate(self.vocabulary.keys())\n",
    "        }\n",
    "        \n",
    "    def _mark_appear_once(self):\n",
    "        \"\"\"\n",
    "        Mark all words that appear only once in the data with a \"UNK-x\" tag\n",
    "        \"\"\"\n",
    "        words_count = np.sum(self._tag_matrix, axis=1)\n",
    "        for i, word in enumerate(self.vocabulary):\n",
    "            if words_count[i] == 1:\n",
    "                self.word_tag[word] = self._appear_once_tag\n",
    "        \n",
    "    def _tag_out_of_vob(self):\n",
    "        \"\"\"\n",
    "        Tag every out-of-vocabulary word with the majority tag among all training samples\n",
    "        \"\"\"\n",
    "        labels_count = np.sum(self._tag_matrix, axis=0)\n",
    "        most_label_index = np.argmax(labels_count)\n",
    "        self._most_freq_tag = self.tags[most_label_index]\n",
    "        \n",
    "    def train(self, content: List[str]) -> float:\n",
    "        \"\"\"\n",
    "        Count the frequency of each (word, tag) pair for the given training content.\n",
    "        \n",
    "        Args:\n",
    "        - content: A list of string returned by the function `open_brown_files`.\n",
    "        \n",
    "        Return:\n",
    "        - accuracy: The training accuracy of the model.\n",
    "        \"\"\"\n",
    "        for line in content:\n",
    "            if sentence_head_end(line):\n",
    "                continue\n",
    "            word, tag = line.split('\\t')\n",
    "            # if the word first appears, initialize the dictionary of tags for this word\n",
    "            if word not in self.vocabulary:\n",
    "                self.vocabulary[word] = {\n",
    "                    tag: 0 for tag in self.tags\n",
    "                }\n",
    "            # increment the frequency by 1 of the (word, tag) pair\n",
    "            self.vocabulary[word][tag] += 1\n",
    "        # convert dictionary into a matrix\n",
    "        self._tag_matrix = self._dict_to_matrix(self.vocabulary)\n",
    "        # find the most frequent label for each word\n",
    "        self._find_word_tag()\n",
    "        # handle unknown words\n",
    "        self._mark_appear_once()\n",
    "        self._tag_out_of_vob()\n",
    "        # return the train accuracy\n",
    "        return 1 - ((np.sum(self._tag_matrix, axis=1) == 1).sum() / np.sum(self._tag_matrix))\n",
    "    \n",
    "    def test(self, content: List[str]) -> float:\n",
    "        \"\"\"\n",
    "        Count the frequency of each (word, tag) pair for the given testing content.\n",
    "        \n",
    "        Args:\n",
    "        - content: A list of string returned by the function `open_brown_files`.\n",
    "        \n",
    "        Return:\n",
    "        - accuracy: The testing accuracy of the model.\n",
    "        \"\"\"\n",
    "        # init the variables\n",
    "        test_vocabulary = {}\n",
    "        # iterate the content\n",
    "        for line in content:\n",
    "            if sentence_head_end(line):\n",
    "                continue\n",
    "            word, tag = line.split('\\t')\n",
    "            # if the word first appears, initialize the dictionary of tags for this word\n",
    "            if word not in test_vocabulary:\n",
    "                test_vocabulary[word] = {\n",
    "                    tag: 0 for tag in self.tags\n",
    "                }\n",
    "            # increment the frequency by 1 of the (word, tag) pair\n",
    "            test_vocabulary[word][tag] += 1\n",
    "        # convert the dict to a 2-d matrix\n",
    "        test_tag_matrix = self._dict_to_matrix(test_vocabulary)\n",
    "        # compute the accuracy\n",
    "        num_words, num_correct = 0, 0\n",
    "        for i, word in enumerate(test_vocabulary):\n",
    "            \n",
    "            curr_word_count = np.sum(test_tag_matrix[i])\n",
    "            num_words += curr_word_count\n",
    "            \n",
    "            # NOTE: if the current word appears only once and are out-of-vocabulary at the same time, the tag will\n",
    "            #       be predicted as 'UNK-x'.\n",
    "            # appear only once\n",
    "            if curr_word_count == 1:\n",
    "                predicted_tag = self._appear_once_tag\n",
    "            # out-of-vocabulary word\n",
    "            elif word not in self.vocabulary:\n",
    "                predicted_tag = self._most_freq_tag\n",
    "            # other case\n",
    "            else:\n",
    "                predicted_tag = self.word_tag[word]\n",
    "                \n",
    "            if predicted_tag == self._appear_once_tag:\n",
    "                continue\n",
    "            else:\n",
    "                num_correct +=  test_vocabulary[word][predicted_tag]\n",
    "                \n",
    "        # return the accuracy\n",
    "        return num_correct / num_words\n",
    "        "
   ]
  },
  {
   "cell_type": "markdown",
   "id": "9c815103",
   "metadata": {
    "papermill": {
     "duration": 0.007292,
     "end_time": "2024-05-29T09:25:59.214686",
     "exception": false,
     "start_time": "2024-05-29T09:25:59.207394",
     "status": "completed"
    },
    "tags": []
   },
   "source": [
    "### 2.2 Train & Find the most frequent class label for each word in the training data"
   ]
  },
  {
   "cell_type": "code",
   "execution_count": 10,
   "id": "0cd4eba5",
   "metadata": {
    "execution": {
     "iopub.execute_input": "2024-05-29T09:25:59.230678Z",
     "iopub.status.busy": "2024-05-29T09:25:59.230148Z",
     "iopub.status.idle": "2024-05-29T09:25:59.234053Z",
     "shell.execute_reply": "2024-05-29T09:25:59.233206Z"
    },
    "papermill": {
     "duration": 0.013788,
     "end_time": "2024-05-29T09:25:59.235870",
     "exception": false,
     "start_time": "2024-05-29T09:25:59.222082",
     "status": "completed"
    },
    "tags": []
   },
   "outputs": [
    {
     "name": "stdout",
     "output_type": "stream",
     "text": [
      "        Word          |   tag \n",
      "==============================\n",
      "        Mr.           |   NOUN\n",
      "       Podger         |   NOUN\n",
      "        had           |   VERB\n",
      "      thanked         |   VERB\n",
      "        him           |   PRON\n",
      "      gravely         |    ADV\n",
      "         ,            |      .\n",
      "        and           |   CONJ\n",
      "        now           |    ADV\n",
      "         he           |   PRON\n",
      "        made          |   VERB\n",
      "        use           |   NOUN\n",
      "         of           |    ADP\n",
      "        the           |    DET\n",
      "       advice         |   NOUN\n",
      "         .            |      .\n",
      "        But           |   CONJ\n",
      "       there          |    PRT\n",
      "       seemed         |   VERB\n",
      "         to           |    PRT\n",
      "         be           |   VERB\n",
      "        some          |    DET\n",
      "     difference       |   NOUN\n",
      "      opinion         |   NOUN\n",
      "         as           |    ADP\n",
      "        how           |    ADV\n",
      "        far           |    ADV\n",
      "       board          |   NOUN\n",
      "       should         |   VERB\n",
      "         go           |   VERB\n",
      "       whose          |    DET\n",
      "         it           |   PRON\n",
      "       follow         |   VERB\n",
      "        Such          |    ADJ\n",
      "         an           |    DET\n",
      "     instrument       |   NOUN\n",
      "         is           |   VERB\n",
      "      expected        |   VERB\n",
      "     especially       |    ADV\n",
      "       useful         |    ADJ\n",
      "         if           |    ADP\n",
      "       could          |   VERB\n",
      "        used          |   VERB\n",
      "      measure         |   NOUN\n",
      "     elasticity       |   NOUN\n",
      "       heavy          |    ADJ\n",
      "       pastes         |  UNK-x\n",
      "        such          |    ADJ\n",
      "      printing        |   VERB\n",
      "        inks          |  UNK-x\n"
     ]
    }
   ],
   "source": [
    "most_freq_tagger = MostFreqTagger()\n",
    "\n",
    "# train\n",
    "train_accuracy = most_freq_tagger.train(train_content)\n",
    "\n",
    "# print the first 50 (word, most_freq_tag) pairs\n",
    "num = 0\n",
    "print(\"{:^20}{}{:^5}\".format(\"Word\", INTERVAL, \"tag\"))\n",
    "print(\"=\" * 30)\n",
    "for word, tag in most_freq_tagger.word_tag.items():\n",
    "    print(\"{:^20}{}{:>5}\".format(word, INTERVAL, tag)) \n",
    "    if (num := num + 1) == 50:\n",
    "        break"
   ]
  },
  {
   "cell_type": "markdown",
   "id": "7fc5d578",
   "metadata": {
    "papermill": {
     "duration": 0.007112,
     "end_time": "2024-05-29T09:25:59.250449",
     "exception": false,
     "start_time": "2024-05-29T09:25:59.243337",
     "status": "completed"
    },
    "tags": []
   },
   "source": [
    "### 2.3 Test & Report the accuracy\n",
    "\n",
    "We can find from the accuracies below:\n",
    "- The training accuracy is relatively high, which is about 97.4%\n",
    "- The testing accuracy is clearly lower than the training accuracy, which is just 89.2%, slightly lower than 90%."
   ]
  },
  {
   "cell_type": "code",
   "execution_count": 9,
   "id": "e525f2bb",
   "metadata": {
    "execution": {
     "iopub.execute_input": "2024-05-29T09:25:59.266184Z",
     "iopub.status.busy": "2024-05-29T09:25:59.265911Z",
     "iopub.status.idle": "2024-05-29T09:25:59.269417Z",
     "shell.execute_reply": "2024-05-29T09:25:59.268665Z"
    },
    "papermill": {
     "duration": 0.013467,
     "end_time": "2024-05-29T09:25:59.271238",
     "exception": false,
     "start_time": "2024-05-29T09:25:59.257771",
     "status": "completed"
    },
    "tags": []
   },
   "outputs": [
    {
     "name": "stdout",
     "output_type": "stream",
     "text": [
      "The train accuracy of the 'most frequent tagger' model is: 0.974658\n",
      "The  test accuracy of the 'most frequent tagger' model is: 0.892655\n"
     ]
    }
   ],
   "source": [
    "test_accuracy = most_freq_tagger.test(test_content)\n",
    "print(\"The train accuracy of the 'most frequent tagger' model is: {:>8.6f}\".format(train_accuracy))\n",
    "print(\"The  test accuracy of the 'most frequent tagger' model is: {:>8.6f}\".format(test_accuracy))"
   ]
  },
  {
   "cell_type": "code",
   "execution_count": 11,
   "id": "b6ee1910",
   "metadata": {
    "execution": {
     "iopub.execute_input": "2024-05-29T09:25:59.287766Z",
     "iopub.status.busy": "2024-05-29T09:25:59.287511Z",
     "iopub.status.idle": "2024-05-29T09:25:59.291435Z",
     "shell.execute_reply": "2024-05-29T09:25:59.290578Z"
    },
    "papermill": {
     "duration": 0.014248,
     "end_time": "2024-05-29T09:25:59.293334",
     "exception": false,
     "start_time": "2024-05-29T09:25:59.279086",
     "status": "completed"
    },
    "tags": []
   },
   "outputs": [],
   "source": [
    "# Task 3 --- Method 2: Build an HMM tagger ---\n",
    "# 1) You should use nltk.tag.HiddenMarkovModelTagger to build an HMM tagger.\n",
    "#    It has parameters: symbols, states, transitions, outputs, priors, transform (ignore it).\n",
    "#    Specify these parameters properly. For example, you can use MLE to estimate transitions, outputs and priors.\n",
    "#    That is, MLE to estimate matrix A (transition matrix), and matrix B (output probabilites) (See. Page 8.4.3)\n",
    "# 2) After build your model, report both the accuracy of HMM tagger for train samples and test samples.\n",
    "# \n",
    "# 3) Compared with your baseline method, discuss that why your HMM tagger is better/worse than baseline method.\n",
    "\n",
    "# Notice: You may also need to handle unknown words just like Task 2.\n",
    "\n",
    "# Your code"
   ]
  },
  {
   "cell_type": "markdown",
   "id": "3137934a",
   "metadata": {
    "papermill": {
     "duration": 0.007255,
     "end_time": "2024-05-29T09:25:59.308120",
     "exception": false,
     "start_time": "2024-05-29T09:25:59.300865",
     "status": "completed"
    },
    "tags": []
   },
   "source": [
    "### 3.1 Preprocess training & testing dataset"
   ]
  },
  {
   "cell_type": "code",
   "execution_count": 11,
   "id": "a4f8d1bc",
   "metadata": {
    "execution": {
     "iopub.execute_input": "2024-05-29T09:25:59.323997Z",
     "iopub.status.busy": "2024-05-29T09:25:59.323762Z",
     "iopub.status.idle": "2024-05-29T09:26:02.412499Z",
     "shell.execute_reply": "2024-05-29T09:26:02.411691Z"
    },
    "papermill": {
     "duration": 3.0991,
     "end_time": "2024-05-29T09:26:02.414769",
     "exception": false,
     "start_time": "2024-05-29T09:25:59.315669",
     "status": "completed"
    },
    "tags": []
   },
   "outputs": [],
   "source": [
    "def content_to_tuple(content: List[str]) -> List[Tuple]:\n",
    "    \"\"\"\n",
    "    Convert the content get from the files into the format of \"List[Tuple]\" which \n",
    "    can be used by the `hmm` model.\n",
    "    \"\"\"\n",
    "    content_list, inner_list = [], []\n",
    "    for line in content:\n",
    "        if line.startswith(\"b100-\"):\n",
    "            continue\n",
    "        if line == '':\n",
    "            content_list.append(inner_list)\n",
    "            inner_list = []\n",
    "            continue\n",
    "        inner_list.append(tuple(line.split('\\t')))\n",
    "    return content_list\n",
    "\n",
    "train_list_tuple = content_to_tuple(train_content)\n",
    "test_list_tuple = content_to_tuple(test_content)"
   ]
  },
  {
   "cell_type": "markdown",
   "id": "6143db19",
   "metadata": {
    "papermill": {
     "duration": 0.007358,
     "end_time": "2024-05-29T09:26:02.429923",
     "exception": false,
     "start_time": "2024-05-29T09:26:02.422565",
     "status": "completed"
    },
    "tags": []
   },
   "source": [
    "### 3.2 Estimate parameters for `nltk.tag.HiddenMarkovModelTagger`"
   ]
  },
  {
   "cell_type": "code",
   "execution_count": 12,
   "id": "aaf2cf8a",
   "metadata": {
    "execution": {
     "iopub.execute_input": "2024-05-29T09:26:02.446083Z",
     "iopub.status.busy": "2024-05-29T09:26:02.445791Z",
     "iopub.status.idle": "2024-05-29T09:26:02.450796Z",
     "shell.execute_reply": "2024-05-29T09:26:02.450018Z"
    },
    "papermill": {
     "duration": 0.015146,
     "end_time": "2024-05-29T09:26:02.452586",
     "exception": false,
     "start_time": "2024-05-29T09:26:02.437440",
     "status": "completed"
    },
    "tags": []
   },
   "outputs": [],
   "source": [
    "# initialize counters\n",
    "transition_counts = defaultdict(Counter)\n",
    "emission_counts = defaultdict(Counter)\n",
    "start_counts = Counter()\n",
    "tag_counts = Counter()\n",
    "\n",
    "# collect counts from the training data\n",
    "for sentence in train_list_tuple:\n",
    "    prev_tag = None\n",
    "    for word, tag in sentence:\n",
    "        if prev_tag is None:\n",
    "            start_counts[tag] += 1\n",
    "        else:\n",
    "            transition_counts[prev_tag][tag] += 1\n",
    "        emission_counts[tag][word] += 1\n",
    "        tag_counts[tag] += 1\n",
    "        prev_tag = tag\n",
    "\n",
    "# total number of sentences\n",
    "num_sentences = len(train_list_tuple)\n",
    "\n",
    "# convert counts to lists of (condition, sample) pairs\n",
    "transition_pairs = [(prev_tag, tag) for prev_tag, tags in transition_counts.items() for tag, count in tags.items() for _ in range(count)]\n",
    "emission_pairs = [(tag, word) for tag, words in emission_counts.items() for word, count in words.items() for _ in range(count)]\n",
    "\n",
    "# convert to ConditionalFreqDist\n",
    "transition_cfd = ConditionalFreqDist(transition_pairs)\n",
    "emission_cfd = ConditionalFreqDist(emission_pairs)\n",
    "\n",
    "# convert counts to probabilities using MLE\n",
    "transition_probs = ConditionalProbDist(transition_cfd, MLEProbDist)\n",
    "emission_probs = ConditionalProbDist(emission_cfd, MLEProbDist)\n",
    "start_probs = MLEProbDist(FreqDist(start_counts))\n",
    "\n",
    "# get list of symbols (words) and states (tags)\n",
    "symbols = list({word for sentence in train_list_tuple for word, _ in sentence})\n",
    "states = list(tag_counts.keys())\n"
   ]
  },
  {
   "cell_type": "markdown",
   "id": "6ab0ca81",
   "metadata": {
    "papermill": {
     "duration": 0.007281,
     "end_time": "2024-05-29T09:26:02.467345",
     "exception": false,
     "start_time": "2024-05-29T09:26:02.460064",
     "status": "completed"
    },
    "tags": []
   },
   "source": [
    "### 3.3 Build `HMM` model & Report the accuracy"
   ]
  },
  {
   "cell_type": "code",
   "execution_count": 13,
   "id": "f11a6662",
   "metadata": {
    "execution": {
     "iopub.execute_input": "2024-05-29T09:26:02.483719Z",
     "iopub.status.busy": "2024-05-29T09:26:02.483437Z",
     "iopub.status.idle": "2024-05-29T09:26:02.488387Z",
     "shell.execute_reply": "2024-05-29T09:26:02.487711Z"
    },
    "papermill": {
     "duration": 0.015361,
     "end_time": "2024-05-29T09:26:02.490284",
     "exception": false,
     "start_time": "2024-05-29T09:26:02.474923",
     "status": "completed"
    },
    "tags": []
   },
   "outputs": [
    {
     "name": "stdout",
     "output_type": "stream",
     "text": [
      "The train accuracy of the 'hmm tagger' model is: 0.969869\n",
      "The  test accuracy of the 'hmm tagger' model is: 0.951023\n"
     ]
    }
   ],
   "source": [
    "# build the hmm_tagger model\n",
    "hmm_tagger = hmm.HiddenMarkovModelTagger(\n",
    "    symbols=symbols, states=states, transitions=transition_probs, outputs=emission_probs, priors=start_probs\n",
    ")\n",
    "\n",
    "# train & evaluate accuracy on training data\n",
    "hmm_tagger = hmm_tagger.train(train_list_tuple)\n",
    "train_accuracy = hmm_tagger.accuracy(train_list_tuple)\n",
    "print(\"The train accuracy of the 'hmm tagger' model is: {:>8.6f}\".format(train_accuracy))\n",
    "\n",
    "# evaluate accuracy on testing data\n",
    "test_accuracy = hmm_tagger.accuracy(test_list_tuple)\n",
    "print(\"The  test accuracy of the 'hmm tagger' model is: {:>8.6f}\".format(test_accuracy))"
   ]
  },
  {
   "cell_type": "markdown",
   "id": "e2021ead",
   "metadata": {},
   "source": [
    "### 3.4 Comparison & Explanation"
   ]
  },
  {
   "cell_type": "markdown",
   "id": "c09d61a6",
   "metadata": {},
   "source": [
    "- Accuracy Results\n",
    "  - Train Accuracy\n",
    "    - HMM Tagger: 96.9869%\n",
    "    - Baseline (Most Frequent Tagger): 97.4658%\n",
    "    - The baseline tagger slightly overfits by memorizing the most frequent tags, giving it marginally higher train accuracy.\n",
    "\n",
    "  - Test Accuracy\n",
    "    - HMM Tagger: 95.1023%\n",
    "    - Baseline (Most Frequent Tagger): 89.2665%\n",
    "    - The HMM tagger performs significantly better on test data because it captures the context and sequence of words, whereas the baseline method struggles with unknown words and lacks context-awareness.\n",
    "\n",
    "- Why HMM is better?\n",
    "  - **Sequence Modeling**:\n",
    "    - HMM considers the order of words and their tags, modeling dependencies between consecutive tags for better predictions.\n",
    "  - **Probabilistic Approach**:\n",
    "    - HMM uses probabilities for transitions between tags and word-tag pairs, allowing more informed predictions, especially for unseen words.\n",
    "  - **Generalization**:\n",
    "    - By leveraging context from neighboring words and tags, HMM generalizes better to new data, unlike the baseline which relies on the most frequent tag and can't adapt well to variations.\n",
    "\n",
    "- Summary\n",
    "  - The HMM tagger's ability to model sequences and use probabilities makes it more accurate on test data compared to the baseline method, which lacks the ability to handle context and unknown words effectively. "
   ]
  },
  {
   "cell_type": "code",
   "execution_count": 15,
   "id": "2720d715",
   "metadata": {
    "execution": {
     "iopub.execute_input": "2024-05-29T09:26:02.507594Z",
     "iopub.status.busy": "2024-05-29T09:26:02.507337Z",
     "iopub.status.idle": "2024-05-29T09:26:02.511349Z",
     "shell.execute_reply": "2024-05-29T09:26:02.510537Z"
    },
    "papermill": {
     "duration": 0.014813,
     "end_time": "2024-05-29T09:26:02.513133",
     "exception": false,
     "start_time": "2024-05-29T09:26:02.498320",
     "status": "completed"
    },
    "tags": []
   },
   "outputs": [],
   "source": [
    "# Task 4 --- Method 3: Fine-tuning on BERT-base model for POS-tagging ---\n",
    "# \n",
    "# 1) You may download a BERT model (say, you choose BERT-base cased) \n",
    "#    and use tools in https://github.com/huggingface/transformers\n",
    "# \n",
    "# 2) After build your model, report both the accuracy of BERT tagger for train samples and test samples.\n",
    "# \n",
    "# 3) Compared with Method 1,2, discuss that why your BERT tagger is better/worse than these two."
   ]
  },
  {
   "cell_type": "markdown",
   "id": "883d289f",
   "metadata": {
    "papermill": {
     "duration": 0.007616,
     "end_time": "2024-05-29T09:26:02.528772",
     "exception": false,
     "start_time": "2024-05-29T09:26:02.521156",
     "status": "completed"
    },
    "tags": []
   },
   "source": [
    "### 4.1 Preprocess Data"
   ]
  },
  {
   "cell_type": "code",
   "execution_count": 7,
   "id": "b46398dc",
   "metadata": {
    "execution": {
     "iopub.execute_input": "2024-05-29T09:26:02.545951Z",
     "iopub.status.busy": "2024-05-29T09:26:02.545056Z",
     "iopub.status.idle": "2024-05-29T09:27:09.707819Z",
     "shell.execute_reply": "2024-05-29T09:27:09.706938Z"
    },
    "papermill": {
     "duration": 67.173787,
     "end_time": "2024-05-29T09:27:09.710272",
     "exception": false,
     "start_time": "2024-05-29T09:26:02.536485",
     "status": "completed"
    },
    "tags": []
   },
   "outputs": [],
   "source": [
    "warnings.filterwarnings(\"ignore\")\n",
    "device = 'cuda' if torch.cuda.is_available() else 'cpu'\n",
    "tag_content = sorted(tag_content)\n",
    "\n",
    "def preprocess_data(data: List[Tuple], tokenizer: BertTokenizer):\n",
    "    \"\"\"\n",
    "    Preprocess data into BERT format for later training.\n",
    "    \n",
    "    Args:\n",
    "    - data: The list of tuples get from task3.\n",
    "    - tokenizer: The tokenizer used in this model, here we use 'bert-base-cased' tokenizer.\n",
    "    \"\"\"\n",
    "    tokenized_texts = []\n",
    "    tags = []\n",
    "\n",
    "    for sentence in data:\n",
    "        tokenized_text = []\n",
    "        sentence_tags = []\n",
    "        for word, tag in sentence:\n",
    "            tokenized_word = tokenizer.tokenize(word)\n",
    "            tokenized_text.extend(tokenized_word)\n",
    "            sentence_tags.extend([tag_content.index(tag)] * len(tokenized_word))\n",
    "\n",
    "        tokenized_texts.append(tokenized_text)\n",
    "        tags.append(sentence_tags)\n",
    "\n",
    "    input_ids = [tokenizer.convert_tokens_to_ids(tokens) for tokens in tokenized_texts]\n",
    "    input_ids = torch.nn.utils.rnn.pad_sequence([torch.tensor(ids) for ids in input_ids], batch_first=True)\n",
    "    tags = torch.nn.utils.rnn.pad_sequence([torch.tensor(ids) for ids in tags], batch_first=True)\n",
    "\n",
    "    attention_masks = input_ids != 0\n",
    "\n",
    "    return TensorDataset(input_ids, attention_masks, tags)\n",
    "\n",
    "# initialize BERT model and tokenizer\n",
    "tokenizer = BertTokenizer.from_pretrained('bert-base-cased')\n",
    "\n",
    "# preprocess the training and testing dataset\n",
    "train_dataset = preprocess_data(train_list_tuple, tokenizer)\n",
    "test_dataset = preprocess_data(test_list_tuple, tokenizer)"
   ]
  },
  {
   "cell_type": "markdown",
   "id": "2de53eb7",
   "metadata": {
    "papermill": {
     "duration": 0.008342,
     "end_time": "2024-05-29T09:27:09.727644",
     "exception": false,
     "start_time": "2024-05-29T09:27:09.719302",
     "status": "completed"
    },
    "tags": []
   },
   "source": [
    "### 4.2 Define the Model & Dataloader"
   ]
  },
  {
   "cell_type": "code",
   "execution_count": 8,
   "id": "9965631f",
   "metadata": {
    "execution": {
     "iopub.execute_input": "2024-05-29T09:27:09.747309Z",
     "iopub.status.busy": "2024-05-29T09:27:09.746689Z",
     "iopub.status.idle": "2024-05-29T09:27:13.032868Z",
     "shell.execute_reply": "2024-05-29T09:27:13.032087Z"
    },
    "papermill": {
     "duration": 3.298965,
     "end_time": "2024-05-29T09:27:13.035262",
     "exception": false,
     "start_time": "2024-05-29T09:27:09.736297",
     "status": "completed"
    },
    "tags": []
   },
   "outputs": [
    {
     "name": "stderr",
     "output_type": "stream",
     "text": [
      "Some weights of BertForTokenClassification were not initialized from the model checkpoint at bert-base-cased and are newly initialized: ['classifier.bias', 'classifier.weight']\n",
      "You should probably TRAIN this model on a down-stream task to be able to use it for predictions and inference.\n"
     ]
    }
   ],
   "source": [
    "# define the model and hyper-parameters\n",
    "model = BertForTokenClassification.from_pretrained('bert-base-cased', num_labels=len(tag_content)).to(device)\n",
    "optimizer = AdamW(model.parameters(), lr=5e-5)\n",
    "loss_fn = CrossEntropyLoss()\n",
    "\n",
    "batch_size = 32\n",
    "num_epochs = 5\n",
    "\n",
    "# convert dataset to DataLoader\n",
    "train_dataloader = DataLoader(train_dataset, batch_size=batch_size, shuffle=True)\n",
    "test_dataloader = DataLoader(test_dataset, batch_size=batch_size, shuffle=False)"
   ]
  },
  {
   "cell_type": "markdown",
   "id": "85d06d97",
   "metadata": {
    "papermill": {
     "duration": 0.008795,
     "end_time": "2024-05-29T09:27:13.054356",
     "exception": false,
     "start_time": "2024-05-29T09:27:13.045561",
     "status": "completed"
    },
    "tags": []
   },
   "source": [
    "### 4.3 Train & Test"
   ]
  },
  {
   "cell_type": "code",
   "execution_count": 18,
   "id": "7b0ddd7a",
   "metadata": {
    "execution": {
     "iopub.execute_input": "2024-05-29T09:27:13.073449Z",
     "iopub.status.busy": "2024-05-29T09:27:13.073124Z",
     "iopub.status.idle": "2024-05-29T11:45:02.706692Z",
     "shell.execute_reply": "2024-05-29T11:45:02.705709Z"
    },
    "papermill": {
     "duration": 8269.646332,
     "end_time": "2024-05-29T11:45:02.709586",
     "exception": false,
     "start_time": "2024-05-29T09:27:13.063254",
     "status": "completed"
    },
    "tags": []
   },
   "outputs": [
    {
     "name": "stderr",
     "output_type": "stream",
     "text": [
      "Epoch 1/5: 100%|██████████| 1432/1432 [25:12<00:00,  1.06s/it]\n"
     ]
    },
    {
     "name": "stdout",
     "output_type": "stream",
     "text": [
      "Epoch 1 Loss: 36.42670771921985\n"
     ]
    },
    {
     "name": "stderr",
     "output_type": "stream",
     "text": [
      "Epoch 2/5: 100%|██████████| 1432/1432 [25:18<00:00,  1.06s/it]\n"
     ]
    },
    {
     "name": "stdout",
     "output_type": "stream",
     "text": [
      "Epoch 2 Loss: 6.419456070405431\n"
     ]
    },
    {
     "name": "stderr",
     "output_type": "stream",
     "text": [
      "Epoch 3/5: 100%|██████████| 1432/1432 [25:18<00:00,  1.06s/it]\n"
     ]
    },
    {
     "name": "stdout",
     "output_type": "stream",
     "text": [
      "Epoch 3 Loss: 4.065269210754195\n"
     ]
    },
    {
     "name": "stderr",
     "output_type": "stream",
     "text": [
      "Epoch 4/5: 100%|██████████| 1432/1432 [25:18<00:00,  1.06s/it]\n"
     ]
    },
    {
     "name": "stdout",
     "output_type": "stream",
     "text": [
      "Epoch 4 Loss: 3.237299619722762\n"
     ]
    },
    {
     "name": "stderr",
     "output_type": "stream",
     "text": [
      "Epoch 5/5: 100%|██████████| 1432/1432 [25:17<00:00,  1.06s/it]\n"
     ]
    },
    {
     "name": "stdout",
     "output_type": "stream",
     "text": [
      "Epoch 5 Loss: 2.127510324418836\n"
     ]
    },
    {
     "name": "stderr",
     "output_type": "stream",
     "text": [
      "100%|██████████| 1432/1432 [08:43<00:00,  2.74it/s]\n"
     ]
    },
    {
     "name": "stdout",
     "output_type": "stream",
     "text": [
      "The train accuracy of the 'bert-based' model is: 0.999829\n"
     ]
    },
    {
     "name": "stderr",
     "output_type": "stream",
     "text": [
      "100%|██████████| 361/361 [02:40<00:00,  2.24it/s]"
     ]
    },
    {
     "name": "stdout",
     "output_type": "stream",
     "text": [
      "The  test accuracy of the 'bert-based' model is: 0.998898\n"
     ]
    },
    {
     "name": "stderr",
     "output_type": "stream",
     "text": [
      "\n"
     ]
    }
   ],
   "source": [
    "# fine-tune BERT model\n",
    "model.train()\n",
    "for epoch in range(num_epochs):\n",
    "    epoch_loss = 0.0\n",
    "    for batch in tqdm(train_dataloader, desc=f\"Epoch {epoch+1}/{num_epochs}\"):\n",
    "        input_ids, attention_mask, labels = [x.to(device) for x in batch]\n",
    "\n",
    "        optimizer.zero_grad()\n",
    "        outputs = model(input_ids, attention_mask=attention_mask, labels=labels)\n",
    "        loss = outputs.loss\n",
    "        loss.backward()\n",
    "        optimizer.step()\n",
    "\n",
    "        epoch_loss += loss.item()\n",
    "\n",
    "    print(f\"Epoch {epoch+1} Loss: {epoch_loss}\")\n",
    "\n",
    "# evaluate on training set\n",
    "model.eval()\n",
    "train_correct = 0\n",
    "train_total = 0\n",
    "with torch.no_grad():\n",
    "    for batch in tqdm(train_dataloader):\n",
    "        input_ids, attention_mask, labels = [x.to(device) for x in batch]\n",
    "\n",
    "        outputs = model(input_ids, attention_mask=attention_mask)\n",
    "        logits = outputs.logits\n",
    "        _, predicted = torch.max(logits, 2)\n",
    "        train_correct += (predicted == labels).sum().item()\n",
    "        train_total += labels.numel()\n",
    "\n",
    "train_accuracy = train_correct / train_total\n",
    "print(\"The train accuracy of the 'bert-based' model is: {:>8.6f}\".format(train_accuracy))\n",
    "\n",
    "# evaluate on test set\n",
    "model.eval()\n",
    "test_correct = 0\n",
    "test_total = 0\n",
    "with torch.no_grad():\n",
    "    for batch in tqdm(test_dataloader):\n",
    "        input_ids, attention_mask, labels = [x.to(device) for x in batch]\n",
    "\n",
    "        outputs = model(input_ids, attention_mask=attention_mask)\n",
    "        logits = outputs.logits\n",
    "        _, predicted = torch.max(logits, 2)\n",
    "        test_correct += (predicted == labels).sum().item()\n",
    "        test_total += labels.numel()\n",
    "\n",
    "test_accuracy = test_correct / test_total\n",
    "print(\"The  test accuracy of the 'bert-based' model is: {:>8.6f}\".format(test_accuracy))"
   ]
  },
  {
   "cell_type": "markdown",
   "id": "21520ca0",
   "metadata": {},
   "source": [
    "### 4.4 Comparison & Explanation"
   ]
  },
  {
   "cell_type": "markdown",
   "id": "fb988f46",
   "metadata": {},
   "source": [
    "- Accuracy Results\n",
    "  - Training Accuracy\n",
    "    - HMM Tagger: 96.9869%\n",
    "    - Baseline (Most Frequent Tagger): 97.4658%\n",
    "    - BERT-based Model: 99.9829%\n",
    "    - The BERT-based model achieves near-perfect training accuracy, indicating its strong capability to learn from the training data.\n",
    "  - Test Accuracy\n",
    "\n",
    "    - HMM Tagger: 95.1023%\n",
    "    - Baseline (Most Frequent Tagger): 89.2665%\n",
    "    - BERT-based Model: 99.8898%\n",
    "    - The BERT-based model also performs exceptionally well on test data, significantly outperforming both the HMM tagger and the baseline tagger.\n",
    "\n",
    "- Why BERT-based is better?\n",
    "  - Sequence Modeling:\n",
    "    - HMM Tagger: Considers the order of words and their tags, capturing dependencies between consecutive tags for better predictions.\n",
    "    - BERT-based Model: Utilizes deep learning to understand the context and sequence of words more comprehensively than HMM, thanks to its transformer architecture which can capture long-range dependencies.\n",
    "  - Probabilistic Approach:\n",
    "    - HMM Tagger: Uses probabilities for transitions between tags and word-tag pairs, making more informed predictions especially for unseen words.\n",
    "    - BERT-based Model: Employs advanced machine learning techniques to predict tags based on context, leveraging vast amounts of pre-trained data to improve accuracy even further.\n",
    "  - Generalization:\n",
    "    - HMM Tagger: Leverages context from neighboring words and tags, leading to better generalization compared to the baseline.\n",
    "    - BERT-based Model: Generalizes extremely well to new data due to its ability to understand and predict based on deep contextual information. This results in superior test accuracy compared to both the HMM and baseline taggers.\n",
    "  - Overfitting:\n",
    "    - Baseline Tagger: Shows minor overfitting by memorizing the most frequent tags, resulting in slightly higher training accuracy but poorer test performance.\n",
    "    - BERT-based Model: Despite its near-perfect training accuracy, it maintains high test accuracy, indicating effective regularization and robust learning from the training data.\n",
    "- Summary\n",
    "  - The BERT-based model demonstrates the highest performance in both training and test accuracies, showcasing the advantages of modern deep learning techniques in capturing complex language patterns and generalizing well to unseen data."
   ]
  }
 ],
 "metadata": {
  "kaggle": {
   "accelerator": "nvidiaTeslaT4",
   "dataSources": [
    {
     "datasetId": 5107639,
     "sourceId": 8548201,
     "sourceType": "datasetVersion"
    }
   ],
   "dockerImageVersionId": 30698,
   "isGpuEnabled": true,
   "isInternetEnabled": true,
   "language": "python",
   "sourceType": "notebook"
  },
  "kernelspec": {
   "display_name": "Python 3",
   "language": "python",
   "name": "python3"
  },
  "language_info": {
   "codemirror_mode": {
    "name": "ipython",
    "version": 3
   },
   "file_extension": ".py",
   "mimetype": "text/x-python",
   "name": "python",
   "nbconvert_exporter": "python",
   "pygments_lexer": "ipython3",
   "version": "3.11.6"
  },
  "papermill": {
   "default_parameters": {},
   "duration": 8352.207702,
   "end_time": "2024-05-29T11:45:05.879340",
   "environment_variables": {},
   "exception": null,
   "input_path": "__notebook__.ipynb",
   "output_path": "__notebook__.ipynb",
   "parameters": {},
   "start_time": "2024-05-29T09:25:53.671638",
   "version": "2.5.0"
  },
  "widgets": {
   "application/vnd.jupyter.widget-state+json": {
    "state": {
     "06ca87a12e8940feb44f65011e0b4976": {
      "model_module": "@jupyter-widgets/base",
      "model_module_version": "1.2.0",
      "model_name": "LayoutModel",
      "state": {
       "_model_module": "@jupyter-widgets/base",
       "_model_module_version": "1.2.0",
       "_model_name": "LayoutModel",
       "_view_count": null,
       "_view_module": "@jupyter-widgets/base",
       "_view_module_version": "1.2.0",
       "_view_name": "LayoutView",
       "align_content": null,
       "align_items": null,
       "align_self": null,
       "border": null,
       "bottom": null,
       "display": null,
       "flex": null,
       "flex_flow": null,
       "grid_area": null,
       "grid_auto_columns": null,
       "grid_auto_flow": null,
       "grid_auto_rows": null,
       "grid_column": null,
       "grid_gap": null,
       "grid_row": null,
       "grid_template_areas": null,
       "grid_template_columns": null,
       "grid_template_rows": null,
       "height": null,
       "justify_content": null,
       "justify_items": null,
       "left": null,
       "margin": null,
       "max_height": null,
       "max_width": null,
       "min_height": null,
       "min_width": null,
       "object_fit": null,
       "object_position": null,
       "order": null,
       "overflow": null,
       "overflow_x": null,
       "overflow_y": null,
       "padding": null,
       "right": null,
       "top": null,
       "visibility": null,
       "width": null
      }
     },
     "0a98ceeaa0a44407a28b6020da7f35f4": {
      "model_module": "@jupyter-widgets/base",
      "model_module_version": "1.2.0",
      "model_name": "LayoutModel",
      "state": {
       "_model_module": "@jupyter-widgets/base",
       "_model_module_version": "1.2.0",
       "_model_name": "LayoutModel",
       "_view_count": null,
       "_view_module": "@jupyter-widgets/base",
       "_view_module_version": "1.2.0",
       "_view_name": "LayoutView",
       "align_content": null,
       "align_items": null,
       "align_self": null,
       "border": null,
       "bottom": null,
       "display": null,
       "flex": null,
       "flex_flow": null,
       "grid_area": null,
       "grid_auto_columns": null,
       "grid_auto_flow": null,
       "grid_auto_rows": null,
       "grid_column": null,
       "grid_gap": null,
       "grid_row": null,
       "grid_template_areas": null,
       "grid_template_columns": null,
       "grid_template_rows": null,
       "height": null,
       "justify_content": null,
       "justify_items": null,
       "left": null,
       "margin": null,
       "max_height": null,
       "max_width": null,
       "min_height": null,
       "min_width": null,
       "object_fit": null,
       "object_position": null,
       "order": null,
       "overflow": null,
       "overflow_x": null,
       "overflow_y": null,
       "padding": null,
       "right": null,
       "top": null,
       "visibility": null,
       "width": null
      }
     },
     "0ec6a766ae1d4a89a4848964a02acc5d": {
      "model_module": "@jupyter-widgets/controls",
      "model_module_version": "1.5.0",
      "model_name": "DescriptionStyleModel",
      "state": {
       "_model_module": "@jupyter-widgets/controls",
       "_model_module_version": "1.5.0",
       "_model_name": "DescriptionStyleModel",
       "_view_count": null,
       "_view_module": "@jupyter-widgets/base",
       "_view_module_version": "1.2.0",
       "_view_name": "StyleView",
       "description_width": ""
      }
     },
     "0ec84ed73fb649f589e573249f627e19": {
      "model_module": "@jupyter-widgets/controls",
      "model_module_version": "1.5.0",
      "model_name": "HBoxModel",
      "state": {
       "_dom_classes": [],
       "_model_module": "@jupyter-widgets/controls",
       "_model_module_version": "1.5.0",
       "_model_name": "HBoxModel",
       "_view_count": null,
       "_view_module": "@jupyter-widgets/controls",
       "_view_module_version": "1.5.0",
       "_view_name": "HBoxView",
       "box_style": "",
       "children": [
        "IPY_MODEL_b40cf5955be7445c8c43546635f42513",
        "IPY_MODEL_b359bff2290c44d89fcb330bfd3d06a0",
        "IPY_MODEL_0f81c9d4b4ae445aa7da64db871a0c99"
       ],
       "layout": "IPY_MODEL_47f514ff87804ab19a83276fb12fda13"
      }
     },
     "0f81c9d4b4ae445aa7da64db871a0c99": {
      "model_module": "@jupyter-widgets/controls",
      "model_module_version": "1.5.0",
      "model_name": "HTMLModel",
      "state": {
       "_dom_classes": [],
       "_model_module": "@jupyter-widgets/controls",
       "_model_module_version": "1.5.0",
       "_model_name": "HTMLModel",
       "_view_count": null,
       "_view_module": "@jupyter-widgets/controls",
       "_view_module_version": "1.5.0",
       "_view_name": "HTMLView",
       "description": "",
       "description_tooltip": null,
       "layout": "IPY_MODEL_dd3181e4aa854f5e871587bcd2d1fb1a",
       "placeholder": "​",
       "style": "IPY_MODEL_0ec6a766ae1d4a89a4848964a02acc5d",
       "value": " 436M/436M [00:02&lt;00:00, 211MB/s]"
      }
     },
     "1cc8e669932e4468b11d679ea5edf416": {
      "model_module": "@jupyter-widgets/controls",
      "model_module_version": "1.5.0",
      "model_name": "HTMLModel",
      "state": {
       "_dom_classes": [],
       "_model_module": "@jupyter-widgets/controls",
       "_model_module_version": "1.5.0",
       "_model_name": "HTMLModel",
       "_view_count": null,
       "_view_module": "@jupyter-widgets/controls",
       "_view_module_version": "1.5.0",
       "_view_name": "HTMLView",
       "description": "",
       "description_tooltip": null,
       "layout": "IPY_MODEL_b66e235bb99840c18b0b3c2d73d76c57",
       "placeholder": "​",
       "style": "IPY_MODEL_2361a68f642d44238dd62189523f49e7",
       "value": " 436k/436k [00:00&lt;00:00, 9.15MB/s]"
      }
     },
     "2361a68f642d44238dd62189523f49e7": {
      "model_module": "@jupyter-widgets/controls",
      "model_module_version": "1.5.0",
      "model_name": "DescriptionStyleModel",
      "state": {
       "_model_module": "@jupyter-widgets/controls",
       "_model_module_version": "1.5.0",
       "_model_name": "DescriptionStyleModel",
       "_view_count": null,
       "_view_module": "@jupyter-widgets/base",
       "_view_module_version": "1.2.0",
       "_view_name": "StyleView",
       "description_width": ""
      }
     },
     "376891e4498e4fc0b9bf6500c8524adf": {
      "model_module": "@jupyter-widgets/controls",
      "model_module_version": "1.5.0",
      "model_name": "DescriptionStyleModel",
      "state": {
       "_model_module": "@jupyter-widgets/controls",
       "_model_module_version": "1.5.0",
       "_model_name": "DescriptionStyleModel",
       "_view_count": null,
       "_view_module": "@jupyter-widgets/base",
       "_view_module_version": "1.2.0",
       "_view_name": "StyleView",
       "description_width": ""
      }
     },
     "3c67ab7825f644bfb7e46cfbbb4664b2": {
      "model_module": "@jupyter-widgets/controls",
      "model_module_version": "1.5.0",
      "model_name": "HBoxModel",
      "state": {
       "_dom_classes": [],
       "_model_module": "@jupyter-widgets/controls",
       "_model_module_version": "1.5.0",
       "_model_name": "HBoxModel",
       "_view_count": null,
       "_view_module": "@jupyter-widgets/controls",
       "_view_module_version": "1.5.0",
       "_view_name": "HBoxView",
       "box_style": "",
       "children": [
        "IPY_MODEL_8ffce67384964155a7ceea8a4ef37859",
        "IPY_MODEL_602591a3ac3a4186a63a0a4fc2235c77",
        "IPY_MODEL_9fc36fbd9e264fdcab34c0c760c1f651"
       ],
       "layout": "IPY_MODEL_5f8b09aa57f14f2aa63c216569783d9b"
      }
     },
     "3c6a86c213604b42afbffad91db37d34": {
      "model_module": "@jupyter-widgets/controls",
      "model_module_version": "1.5.0",
      "model_name": "FloatProgressModel",
      "state": {
       "_dom_classes": [],
       "_model_module": "@jupyter-widgets/controls",
       "_model_module_version": "1.5.0",
       "_model_name": "FloatProgressModel",
       "_view_count": null,
       "_view_module": "@jupyter-widgets/controls",
       "_view_module_version": "1.5.0",
       "_view_name": "ProgressView",
       "bar_style": "success",
       "description": "",
       "description_tooltip": null,
       "layout": "IPY_MODEL_88e136fd5515439a919e369e4c892fa5",
       "max": 435797,
       "min": 0,
       "orientation": "horizontal",
       "style": "IPY_MODEL_ddbbc0c023e7491fbc747ebb7ba447ab",
       "value": 435797
      }
     },
     "3d0a8d2b28704b90851979e723ed6b93": {
      "model_module": "@jupyter-widgets/controls",
      "model_module_version": "1.5.0",
      "model_name": "ProgressStyleModel",
      "state": {
       "_model_module": "@jupyter-widgets/controls",
       "_model_module_version": "1.5.0",
       "_model_name": "ProgressStyleModel",
       "_view_count": null,
       "_view_module": "@jupyter-widgets/base",
       "_view_module_version": "1.2.0",
       "_view_name": "StyleView",
       "bar_color": null,
       "description_width": ""
      }
     },
     "47f514ff87804ab19a83276fb12fda13": {
      "model_module": "@jupyter-widgets/base",
      "model_module_version": "1.2.0",
      "model_name": "LayoutModel",
      "state": {
       "_model_module": "@jupyter-widgets/base",
       "_model_module_version": "1.2.0",
       "_model_name": "LayoutModel",
       "_view_count": null,
       "_view_module": "@jupyter-widgets/base",
       "_view_module_version": "1.2.0",
       "_view_name": "LayoutView",
       "align_content": null,
       "align_items": null,
       "align_self": null,
       "border": null,
       "bottom": null,
       "display": null,
       "flex": null,
       "flex_flow": null,
       "grid_area": null,
       "grid_auto_columns": null,
       "grid_auto_flow": null,
       "grid_auto_rows": null,
       "grid_column": null,
       "grid_gap": null,
       "grid_row": null,
       "grid_template_areas": null,
       "grid_template_columns": null,
       "grid_template_rows": null,
       "height": null,
       "justify_content": null,
       "justify_items": null,
       "left": null,
       "margin": null,
       "max_height": null,
       "max_width": null,
       "min_height": null,
       "min_width": null,
       "object_fit": null,
       "object_position": null,
       "order": null,
       "overflow": null,
       "overflow_x": null,
       "overflow_y": null,
       "padding": null,
       "right": null,
       "top": null,
       "visibility": null,
       "width": null
      }
     },
     "4dbaeae57ad34b86a1d45d5b4512bc1a": {
      "model_module": "@jupyter-widgets/base",
      "model_module_version": "1.2.0",
      "model_name": "LayoutModel",
      "state": {
       "_model_module": "@jupyter-widgets/base",
       "_model_module_version": "1.2.0",
       "_model_name": "LayoutModel",
       "_view_count": null,
       "_view_module": "@jupyter-widgets/base",
       "_view_module_version": "1.2.0",
       "_view_name": "LayoutView",
       "align_content": null,
       "align_items": null,
       "align_self": null,
       "border": null,
       "bottom": null,
       "display": null,
       "flex": null,
       "flex_flow": null,
       "grid_area": null,
       "grid_auto_columns": null,
       "grid_auto_flow": null,
       "grid_auto_rows": null,
       "grid_column": null,
       "grid_gap": null,
       "grid_row": null,
       "grid_template_areas": null,
       "grid_template_columns": null,
       "grid_template_rows": null,
       "height": null,
       "justify_content": null,
       "justify_items": null,
       "left": null,
       "margin": null,
       "max_height": null,
       "max_width": null,
       "min_height": null,
       "min_width": null,
       "object_fit": null,
       "object_position": null,
       "order": null,
       "overflow": null,
       "overflow_x": null,
       "overflow_y": null,
       "padding": null,
       "right": null,
       "top": null,
       "visibility": null,
       "width": null
      }
     },
     "54a4f2d038da4a8eb0b8575979304a0f": {
      "model_module": "@jupyter-widgets/base",
      "model_module_version": "1.2.0",
      "model_name": "LayoutModel",
      "state": {
       "_model_module": "@jupyter-widgets/base",
       "_model_module_version": "1.2.0",
       "_model_name": "LayoutModel",
       "_view_count": null,
       "_view_module": "@jupyter-widgets/base",
       "_view_module_version": "1.2.0",
       "_view_name": "LayoutView",
       "align_content": null,
       "align_items": null,
       "align_self": null,
       "border": null,
       "bottom": null,
       "display": null,
       "flex": null,
       "flex_flow": null,
       "grid_area": null,
       "grid_auto_columns": null,
       "grid_auto_flow": null,
       "grid_auto_rows": null,
       "grid_column": null,
       "grid_gap": null,
       "grid_row": null,
       "grid_template_areas": null,
       "grid_template_columns": null,
       "grid_template_rows": null,
       "height": null,
       "justify_content": null,
       "justify_items": null,
       "left": null,
       "margin": null,
       "max_height": null,
       "max_width": null,
       "min_height": null,
       "min_width": null,
       "object_fit": null,
       "object_position": null,
       "order": null,
       "overflow": null,
       "overflow_x": null,
       "overflow_y": null,
       "padding": null,
       "right": null,
       "top": null,
       "visibility": null,
       "width": null
      }
     },
     "568d6fb5952d4cd28c08a545553f5d7d": {
      "model_module": "@jupyter-widgets/controls",
      "model_module_version": "1.5.0",
      "model_name": "HBoxModel",
      "state": {
       "_dom_classes": [],
       "_model_module": "@jupyter-widgets/controls",
       "_model_module_version": "1.5.0",
       "_model_name": "HBoxModel",
       "_view_count": null,
       "_view_module": "@jupyter-widgets/controls",
       "_view_module_version": "1.5.0",
       "_view_name": "HBoxView",
       "box_style": "",
       "children": [
        "IPY_MODEL_be6998c072d9447d841f9aa1ffb18a1e",
        "IPY_MODEL_3c6a86c213604b42afbffad91db37d34",
        "IPY_MODEL_1cc8e669932e4468b11d679ea5edf416"
       ],
       "layout": "IPY_MODEL_e68da43e09ec4caa8bec218ee298775a"
      }
     },
     "5adb58ccaf78414a955b15e210f47591": {
      "model_module": "@jupyter-widgets/controls",
      "model_module_version": "1.5.0",
      "model_name": "FloatProgressModel",
      "state": {
       "_dom_classes": [],
       "_model_module": "@jupyter-widgets/controls",
       "_model_module_version": "1.5.0",
       "_model_name": "FloatProgressModel",
       "_view_count": null,
       "_view_module": "@jupyter-widgets/controls",
       "_view_module_version": "1.5.0",
       "_view_name": "ProgressView",
       "bar_style": "success",
       "description": "",
       "description_tooltip": null,
       "layout": "IPY_MODEL_ce786a3070b54f5bb60ffca4b3bbd8ad",
       "max": 213450,
       "min": 0,
       "orientation": "horizontal",
       "style": "IPY_MODEL_9280ee184436497d9fedf1d2593ff049",
       "value": 213450
      }
     },
     "5af4377046bf4128a6acba2a36737113": {
      "model_module": "@jupyter-widgets/base",
      "model_module_version": "1.2.0",
      "model_name": "LayoutModel",
      "state": {
       "_model_module": "@jupyter-widgets/base",
       "_model_module_version": "1.2.0",
       "_model_name": "LayoutModel",
       "_view_count": null,
       "_view_module": "@jupyter-widgets/base",
       "_view_module_version": "1.2.0",
       "_view_name": "LayoutView",
       "align_content": null,
       "align_items": null,
       "align_self": null,
       "border": null,
       "bottom": null,
       "display": null,
       "flex": null,
       "flex_flow": null,
       "grid_area": null,
       "grid_auto_columns": null,
       "grid_auto_flow": null,
       "grid_auto_rows": null,
       "grid_column": null,
       "grid_gap": null,
       "grid_row": null,
       "grid_template_areas": null,
       "grid_template_columns": null,
       "grid_template_rows": null,
       "height": null,
       "justify_content": null,
       "justify_items": null,
       "left": null,
       "margin": null,
       "max_height": null,
       "max_width": null,
       "min_height": null,
       "min_width": null,
       "object_fit": null,
       "object_position": null,
       "order": null,
       "overflow": null,
       "overflow_x": null,
       "overflow_y": null,
       "padding": null,
       "right": null,
       "top": null,
       "visibility": null,
       "width": null
      }
     },
     "5bc8869f46f643bc91f838bd8f287569": {
      "model_module": "@jupyter-widgets/controls",
      "model_module_version": "1.5.0",
      "model_name": "DescriptionStyleModel",
      "state": {
       "_model_module": "@jupyter-widgets/controls",
       "_model_module_version": "1.5.0",
       "_model_name": "DescriptionStyleModel",
       "_view_count": null,
       "_view_module": "@jupyter-widgets/base",
       "_view_module_version": "1.2.0",
       "_view_name": "StyleView",
       "description_width": ""
      }
     },
     "5ec097ca55324635b5a0e2de67a0f630": {
      "model_module": "@jupyter-widgets/controls",
      "model_module_version": "1.5.0",
      "model_name": "DescriptionStyleModel",
      "state": {
       "_model_module": "@jupyter-widgets/controls",
       "_model_module_version": "1.5.0",
       "_model_name": "DescriptionStyleModel",
       "_view_count": null,
       "_view_module": "@jupyter-widgets/base",
       "_view_module_version": "1.2.0",
       "_view_name": "StyleView",
       "description_width": ""
      }
     },
     "5f8b09aa57f14f2aa63c216569783d9b": {
      "model_module": "@jupyter-widgets/base",
      "model_module_version": "1.2.0",
      "model_name": "LayoutModel",
      "state": {
       "_model_module": "@jupyter-widgets/base",
       "_model_module_version": "1.2.0",
       "_model_name": "LayoutModel",
       "_view_count": null,
       "_view_module": "@jupyter-widgets/base",
       "_view_module_version": "1.2.0",
       "_view_name": "LayoutView",
       "align_content": null,
       "align_items": null,
       "align_self": null,
       "border": null,
       "bottom": null,
       "display": null,
       "flex": null,
       "flex_flow": null,
       "grid_area": null,
       "grid_auto_columns": null,
       "grid_auto_flow": null,
       "grid_auto_rows": null,
       "grid_column": null,
       "grid_gap": null,
       "grid_row": null,
       "grid_template_areas": null,
       "grid_template_columns": null,
       "grid_template_rows": null,
       "height": null,
       "justify_content": null,
       "justify_items": null,
       "left": null,
       "margin": null,
       "max_height": null,
       "max_width": null,
       "min_height": null,
       "min_width": null,
       "object_fit": null,
       "object_position": null,
       "order": null,
       "overflow": null,
       "overflow_x": null,
       "overflow_y": null,
       "padding": null,
       "right": null,
       "top": null,
       "visibility": null,
       "width": null
      }
     },
     "602591a3ac3a4186a63a0a4fc2235c77": {
      "model_module": "@jupyter-widgets/controls",
      "model_module_version": "1.5.0",
      "model_name": "FloatProgressModel",
      "state": {
       "_dom_classes": [],
       "_model_module": "@jupyter-widgets/controls",
       "_model_module_version": "1.5.0",
       "_model_name": "FloatProgressModel",
       "_view_count": null,
       "_view_module": "@jupyter-widgets/controls",
       "_view_module_version": "1.5.0",
       "_view_name": "ProgressView",
       "bar_style": "success",
       "description": "",
       "description_tooltip": null,
       "layout": "IPY_MODEL_d085d53a075f46ffb4ef1a9aa95a48dd",
       "max": 570,
       "min": 0,
       "orientation": "horizontal",
       "style": "IPY_MODEL_3d0a8d2b28704b90851979e723ed6b93",
       "value": 570
      }
     },
     "666eb9f94fc74f0290567349fe531859": {
      "model_module": "@jupyter-widgets/base",
      "model_module_version": "1.2.0",
      "model_name": "LayoutModel",
      "state": {
       "_model_module": "@jupyter-widgets/base",
       "_model_module_version": "1.2.0",
       "_model_name": "LayoutModel",
       "_view_count": null,
       "_view_module": "@jupyter-widgets/base",
       "_view_module_version": "1.2.0",
       "_view_name": "LayoutView",
       "align_content": null,
       "align_items": null,
       "align_self": null,
       "border": null,
       "bottom": null,
       "display": null,
       "flex": null,
       "flex_flow": null,
       "grid_area": null,
       "grid_auto_columns": null,
       "grid_auto_flow": null,
       "grid_auto_rows": null,
       "grid_column": null,
       "grid_gap": null,
       "grid_row": null,
       "grid_template_areas": null,
       "grid_template_columns": null,
       "grid_template_rows": null,
       "height": null,
       "justify_content": null,
       "justify_items": null,
       "left": null,
       "margin": null,
       "max_height": null,
       "max_width": null,
       "min_height": null,
       "min_width": null,
       "object_fit": null,
       "object_position": null,
       "order": null,
       "overflow": null,
       "overflow_x": null,
       "overflow_y": null,
       "padding": null,
       "right": null,
       "top": null,
       "visibility": null,
       "width": null
      }
     },
     "6691c98edc6641389c1500efdec9885a": {
      "model_module": "@jupyter-widgets/controls",
      "model_module_version": "1.5.0",
      "model_name": "ProgressStyleModel",
      "state": {
       "_model_module": "@jupyter-widgets/controls",
       "_model_module_version": "1.5.0",
       "_model_name": "ProgressStyleModel",
       "_view_count": null,
       "_view_module": "@jupyter-widgets/base",
       "_view_module_version": "1.2.0",
       "_view_name": "StyleView",
       "bar_color": null,
       "description_width": ""
      }
     },
     "6751c2b4045e4ffb8452ecd309ecc2e8": {
      "model_module": "@jupyter-widgets/controls",
      "model_module_version": "1.5.0",
      "model_name": "DescriptionStyleModel",
      "state": {
       "_model_module": "@jupyter-widgets/controls",
       "_model_module_version": "1.5.0",
       "_model_name": "DescriptionStyleModel",
       "_view_count": null,
       "_view_module": "@jupyter-widgets/base",
       "_view_module_version": "1.2.0",
       "_view_name": "StyleView",
       "description_width": ""
      }
     },
     "6a33e1213aee440e8182b1bf1217b3c9": {
      "model_module": "@jupyter-widgets/controls",
      "model_module_version": "1.5.0",
      "model_name": "DescriptionStyleModel",
      "state": {
       "_model_module": "@jupyter-widgets/controls",
       "_model_module_version": "1.5.0",
       "_model_name": "DescriptionStyleModel",
       "_view_count": null,
       "_view_module": "@jupyter-widgets/base",
       "_view_module_version": "1.2.0",
       "_view_name": "StyleView",
       "description_width": ""
      }
     },
     "6ab974cb2b2249668458094e23d35ad3": {
      "model_module": "@jupyter-widgets/controls",
      "model_module_version": "1.5.0",
      "model_name": "HTMLModel",
      "state": {
       "_dom_classes": [],
       "_model_module": "@jupyter-widgets/controls",
       "_model_module_version": "1.5.0",
       "_model_name": "HTMLModel",
       "_view_count": null,
       "_view_module": "@jupyter-widgets/controls",
       "_view_module_version": "1.5.0",
       "_view_name": "HTMLView",
       "description": "",
       "description_tooltip": null,
       "layout": "IPY_MODEL_0a98ceeaa0a44407a28b6020da7f35f4",
       "placeholder": "​",
       "style": "IPY_MODEL_5ec097ca55324635b5a0e2de67a0f630",
       "value": " 213k/213k [00:00&lt;00:00, 4.60MB/s]"
      }
     },
     "7ad2b1cd60d444f9a9cf75291122dbba": {
      "model_module": "@jupyter-widgets/base",
      "model_module_version": "1.2.0",
      "model_name": "LayoutModel",
      "state": {
       "_model_module": "@jupyter-widgets/base",
       "_model_module_version": "1.2.0",
       "_model_name": "LayoutModel",
       "_view_count": null,
       "_view_module": "@jupyter-widgets/base",
       "_view_module_version": "1.2.0",
       "_view_name": "LayoutView",
       "align_content": null,
       "align_items": null,
       "align_self": null,
       "border": null,
       "bottom": null,
       "display": null,
       "flex": null,
       "flex_flow": null,
       "grid_area": null,
       "grid_auto_columns": null,
       "grid_auto_flow": null,
       "grid_auto_rows": null,
       "grid_column": null,
       "grid_gap": null,
       "grid_row": null,
       "grid_template_areas": null,
       "grid_template_columns": null,
       "grid_template_rows": null,
       "height": null,
       "justify_content": null,
       "justify_items": null,
       "left": null,
       "margin": null,
       "max_height": null,
       "max_width": null,
       "min_height": null,
       "min_width": null,
       "object_fit": null,
       "object_position": null,
       "order": null,
       "overflow": null,
       "overflow_x": null,
       "overflow_y": null,
       "padding": null,
       "right": null,
       "top": null,
       "visibility": null,
       "width": null
      }
     },
     "7cf2cf551706482298c742be686354db": {
      "model_module": "@jupyter-widgets/base",
      "model_module_version": "1.2.0",
      "model_name": "LayoutModel",
      "state": {
       "_model_module": "@jupyter-widgets/base",
       "_model_module_version": "1.2.0",
       "_model_name": "LayoutModel",
       "_view_count": null,
       "_view_module": "@jupyter-widgets/base",
       "_view_module_version": "1.2.0",
       "_view_name": "LayoutView",
       "align_content": null,
       "align_items": null,
       "align_self": null,
       "border": null,
       "bottom": null,
       "display": null,
       "flex": null,
       "flex_flow": null,
       "grid_area": null,
       "grid_auto_columns": null,
       "grid_auto_flow": null,
       "grid_auto_rows": null,
       "grid_column": null,
       "grid_gap": null,
       "grid_row": null,
       "grid_template_areas": null,
       "grid_template_columns": null,
       "grid_template_rows": null,
       "height": null,
       "justify_content": null,
       "justify_items": null,
       "left": null,
       "margin": null,
       "max_height": null,
       "max_width": null,
       "min_height": null,
       "min_width": null,
       "object_fit": null,
       "object_position": null,
       "order": null,
       "overflow": null,
       "overflow_x": null,
       "overflow_y": null,
       "padding": null,
       "right": null,
       "top": null,
       "visibility": null,
       "width": null
      }
     },
     "831bd6b737c44994a9f725bad3c63e8a": {
      "model_module": "@jupyter-widgets/controls",
      "model_module_version": "1.5.0",
      "model_name": "HTMLModel",
      "state": {
       "_dom_classes": [],
       "_model_module": "@jupyter-widgets/controls",
       "_model_module_version": "1.5.0",
       "_model_name": "HTMLModel",
       "_view_count": null,
       "_view_module": "@jupyter-widgets/controls",
       "_view_module_version": "1.5.0",
       "_view_name": "HTMLView",
       "description": "",
       "description_tooltip": null,
       "layout": "IPY_MODEL_06ca87a12e8940feb44f65011e0b4976",
       "placeholder": "​",
       "style": "IPY_MODEL_5bc8869f46f643bc91f838bd8f287569",
       "value": "vocab.txt: 100%"
      }
     },
     "87ced130e4264f8ea38b67dc2a467542": {
      "model_module": "@jupyter-widgets/controls",
      "model_module_version": "1.5.0",
      "model_name": "ProgressStyleModel",
      "state": {
       "_model_module": "@jupyter-widgets/controls",
       "_model_module_version": "1.5.0",
       "_model_name": "ProgressStyleModel",
       "_view_count": null,
       "_view_module": "@jupyter-widgets/base",
       "_view_module_version": "1.2.0",
       "_view_name": "StyleView",
       "bar_color": null,
       "description_width": ""
      }
     },
     "88b4588121da41fca0f6aa6d887fa457": {
      "model_module": "@jupyter-widgets/controls",
      "model_module_version": "1.5.0",
      "model_name": "HBoxModel",
      "state": {
       "_dom_classes": [],
       "_model_module": "@jupyter-widgets/controls",
       "_model_module_version": "1.5.0",
       "_model_name": "HBoxModel",
       "_view_count": null,
       "_view_module": "@jupyter-widgets/controls",
       "_view_module_version": "1.5.0",
       "_view_name": "HBoxView",
       "box_style": "",
       "children": [
        "IPY_MODEL_f8757b28a4704ea8becc7d359f51a5c2",
        "IPY_MODEL_ea9b713c096a4af2b8a3cabe59c945b1",
        "IPY_MODEL_a4a962824fea46d189ff93e1887a1ad3"
       ],
       "layout": "IPY_MODEL_4dbaeae57ad34b86a1d45d5b4512bc1a"
      }
     },
     "88e136fd5515439a919e369e4c892fa5": {
      "model_module": "@jupyter-widgets/base",
      "model_module_version": "1.2.0",
      "model_name": "LayoutModel",
      "state": {
       "_model_module": "@jupyter-widgets/base",
       "_model_module_version": "1.2.0",
       "_model_name": "LayoutModel",
       "_view_count": null,
       "_view_module": "@jupyter-widgets/base",
       "_view_module_version": "1.2.0",
       "_view_name": "LayoutView",
       "align_content": null,
       "align_items": null,
       "align_self": null,
       "border": null,
       "bottom": null,
       "display": null,
       "flex": null,
       "flex_flow": null,
       "grid_area": null,
       "grid_auto_columns": null,
       "grid_auto_flow": null,
       "grid_auto_rows": null,
       "grid_column": null,
       "grid_gap": null,
       "grid_row": null,
       "grid_template_areas": null,
       "grid_template_columns": null,
       "grid_template_rows": null,
       "height": null,
       "justify_content": null,
       "justify_items": null,
       "left": null,
       "margin": null,
       "max_height": null,
       "max_width": null,
       "min_height": null,
       "min_width": null,
       "object_fit": null,
       "object_position": null,
       "order": null,
       "overflow": null,
       "overflow_x": null,
       "overflow_y": null,
       "padding": null,
       "right": null,
       "top": null,
       "visibility": null,
       "width": null
      }
     },
     "8ffce67384964155a7ceea8a4ef37859": {
      "model_module": "@jupyter-widgets/controls",
      "model_module_version": "1.5.0",
      "model_name": "HTMLModel",
      "state": {
       "_dom_classes": [],
       "_model_module": "@jupyter-widgets/controls",
       "_model_module_version": "1.5.0",
       "_model_name": "HTMLModel",
       "_view_count": null,
       "_view_module": "@jupyter-widgets/controls",
       "_view_module_version": "1.5.0",
       "_view_name": "HTMLView",
       "description": "",
       "description_tooltip": null,
       "layout": "IPY_MODEL_666eb9f94fc74f0290567349fe531859",
       "placeholder": "​",
       "style": "IPY_MODEL_b9b0ac6dd7294cdab5d357eb4b24331d",
       "value": "config.json: 100%"
      }
     },
     "9280ee184436497d9fedf1d2593ff049": {
      "model_module": "@jupyter-widgets/controls",
      "model_module_version": "1.5.0",
      "model_name": "ProgressStyleModel",
      "state": {
       "_model_module": "@jupyter-widgets/controls",
       "_model_module_version": "1.5.0",
       "_model_name": "ProgressStyleModel",
       "_view_count": null,
       "_view_module": "@jupyter-widgets/base",
       "_view_module_version": "1.2.0",
       "_view_name": "StyleView",
       "bar_color": null,
       "description_width": ""
      }
     },
     "9e1f3f656f5e40f0ae8de4b6d5c761fc": {
      "model_module": "@jupyter-widgets/controls",
      "model_module_version": "1.5.0",
      "model_name": "DescriptionStyleModel",
      "state": {
       "_model_module": "@jupyter-widgets/controls",
       "_model_module_version": "1.5.0",
       "_model_name": "DescriptionStyleModel",
       "_view_count": null,
       "_view_module": "@jupyter-widgets/base",
       "_view_module_version": "1.2.0",
       "_view_name": "StyleView",
       "description_width": ""
      }
     },
     "9f345c11291a4920a45a4638c1bb59b1": {
      "model_module": "@jupyter-widgets/base",
      "model_module_version": "1.2.0",
      "model_name": "LayoutModel",
      "state": {
       "_model_module": "@jupyter-widgets/base",
       "_model_module_version": "1.2.0",
       "_model_name": "LayoutModel",
       "_view_count": null,
       "_view_module": "@jupyter-widgets/base",
       "_view_module_version": "1.2.0",
       "_view_name": "LayoutView",
       "align_content": null,
       "align_items": null,
       "align_self": null,
       "border": null,
       "bottom": null,
       "display": null,
       "flex": null,
       "flex_flow": null,
       "grid_area": null,
       "grid_auto_columns": null,
       "grid_auto_flow": null,
       "grid_auto_rows": null,
       "grid_column": null,
       "grid_gap": null,
       "grid_row": null,
       "grid_template_areas": null,
       "grid_template_columns": null,
       "grid_template_rows": null,
       "height": null,
       "justify_content": null,
       "justify_items": null,
       "left": null,
       "margin": null,
       "max_height": null,
       "max_width": null,
       "min_height": null,
       "min_width": null,
       "object_fit": null,
       "object_position": null,
       "order": null,
       "overflow": null,
       "overflow_x": null,
       "overflow_y": null,
       "padding": null,
       "right": null,
       "top": null,
       "visibility": null,
       "width": null
      }
     },
     "9fc36fbd9e264fdcab34c0c760c1f651": {
      "model_module": "@jupyter-widgets/controls",
      "model_module_version": "1.5.0",
      "model_name": "HTMLModel",
      "state": {
       "_dom_classes": [],
       "_model_module": "@jupyter-widgets/controls",
       "_model_module_version": "1.5.0",
       "_model_name": "HTMLModel",
       "_view_count": null,
       "_view_module": "@jupyter-widgets/controls",
       "_view_module_version": "1.5.0",
       "_view_name": "HTMLView",
       "description": "",
       "description_tooltip": null,
       "layout": "IPY_MODEL_7ad2b1cd60d444f9a9cf75291122dbba",
       "placeholder": "​",
       "style": "IPY_MODEL_d6fbd88f73194de8947ff4dc83c79cce",
       "value": " 570/570 [00:00&lt;00:00, 53.6kB/s]"
      }
     },
     "a312bcae3f3d4a79a4e0be12a82cd3d0": {
      "model_module": "@jupyter-widgets/base",
      "model_module_version": "1.2.0",
      "model_name": "LayoutModel",
      "state": {
       "_model_module": "@jupyter-widgets/base",
       "_model_module_version": "1.2.0",
       "_model_name": "LayoutModel",
       "_view_count": null,
       "_view_module": "@jupyter-widgets/base",
       "_view_module_version": "1.2.0",
       "_view_name": "LayoutView",
       "align_content": null,
       "align_items": null,
       "align_self": null,
       "border": null,
       "bottom": null,
       "display": null,
       "flex": null,
       "flex_flow": null,
       "grid_area": null,
       "grid_auto_columns": null,
       "grid_auto_flow": null,
       "grid_auto_rows": null,
       "grid_column": null,
       "grid_gap": null,
       "grid_row": null,
       "grid_template_areas": null,
       "grid_template_columns": null,
       "grid_template_rows": null,
       "height": null,
       "justify_content": null,
       "justify_items": null,
       "left": null,
       "margin": null,
       "max_height": null,
       "max_width": null,
       "min_height": null,
       "min_width": null,
       "object_fit": null,
       "object_position": null,
       "order": null,
       "overflow": null,
       "overflow_x": null,
       "overflow_y": null,
       "padding": null,
       "right": null,
       "top": null,
       "visibility": null,
       "width": null
      }
     },
     "a4a962824fea46d189ff93e1887a1ad3": {
      "model_module": "@jupyter-widgets/controls",
      "model_module_version": "1.5.0",
      "model_name": "HTMLModel",
      "state": {
       "_dom_classes": [],
       "_model_module": "@jupyter-widgets/controls",
       "_model_module_version": "1.5.0",
       "_model_name": "HTMLModel",
       "_view_count": null,
       "_view_module": "@jupyter-widgets/controls",
       "_view_module_version": "1.5.0",
       "_view_name": "HTMLView",
       "description": "",
       "description_tooltip": null,
       "layout": "IPY_MODEL_c82ff8aed4cf409f9d8a818e1695fea9",
       "placeholder": "​",
       "style": "IPY_MODEL_9e1f3f656f5e40f0ae8de4b6d5c761fc",
       "value": " 49.0/49.0 [00:00&lt;00:00, 4.17kB/s]"
      }
     },
     "a4c0ba8da84246da9ba5ddb66a3ca5a7": {
      "model_module": "@jupyter-widgets/base",
      "model_module_version": "1.2.0",
      "model_name": "LayoutModel",
      "state": {
       "_model_module": "@jupyter-widgets/base",
       "_model_module_version": "1.2.0",
       "_model_name": "LayoutModel",
       "_view_count": null,
       "_view_module": "@jupyter-widgets/base",
       "_view_module_version": "1.2.0",
       "_view_name": "LayoutView",
       "align_content": null,
       "align_items": null,
       "align_self": null,
       "border": null,
       "bottom": null,
       "display": null,
       "flex": null,
       "flex_flow": null,
       "grid_area": null,
       "grid_auto_columns": null,
       "grid_auto_flow": null,
       "grid_auto_rows": null,
       "grid_column": null,
       "grid_gap": null,
       "grid_row": null,
       "grid_template_areas": null,
       "grid_template_columns": null,
       "grid_template_rows": null,
       "height": null,
       "justify_content": null,
       "justify_items": null,
       "left": null,
       "margin": null,
       "max_height": null,
       "max_width": null,
       "min_height": null,
       "min_width": null,
       "object_fit": null,
       "object_position": null,
       "order": null,
       "overflow": null,
       "overflow_x": null,
       "overflow_y": null,
       "padding": null,
       "right": null,
       "top": null,
       "visibility": null,
       "width": null
      }
     },
     "b359bff2290c44d89fcb330bfd3d06a0": {
      "model_module": "@jupyter-widgets/controls",
      "model_module_version": "1.5.0",
      "model_name": "FloatProgressModel",
      "state": {
       "_dom_classes": [],
       "_model_module": "@jupyter-widgets/controls",
       "_model_module_version": "1.5.0",
       "_model_name": "FloatProgressModel",
       "_view_count": null,
       "_view_module": "@jupyter-widgets/controls",
       "_view_module_version": "1.5.0",
       "_view_name": "ProgressView",
       "bar_style": "success",
       "description": "",
       "description_tooltip": null,
       "layout": "IPY_MODEL_a4c0ba8da84246da9ba5ddb66a3ca5a7",
       "max": 435755784,
       "min": 0,
       "orientation": "horizontal",
       "style": "IPY_MODEL_87ced130e4264f8ea38b67dc2a467542",
       "value": 435755784
      }
     },
     "b40cf5955be7445c8c43546635f42513": {
      "model_module": "@jupyter-widgets/controls",
      "model_module_version": "1.5.0",
      "model_name": "HTMLModel",
      "state": {
       "_dom_classes": [],
       "_model_module": "@jupyter-widgets/controls",
       "_model_module_version": "1.5.0",
       "_model_name": "HTMLModel",
       "_view_count": null,
       "_view_module": "@jupyter-widgets/controls",
       "_view_module_version": "1.5.0",
       "_view_name": "HTMLView",
       "description": "",
       "description_tooltip": null,
       "layout": "IPY_MODEL_5af4377046bf4128a6acba2a36737113",
       "placeholder": "​",
       "style": "IPY_MODEL_6a33e1213aee440e8182b1bf1217b3c9",
       "value": "model.safetensors: 100%"
      }
     },
     "b66e235bb99840c18b0b3c2d73d76c57": {
      "model_module": "@jupyter-widgets/base",
      "model_module_version": "1.2.0",
      "model_name": "LayoutModel",
      "state": {
       "_model_module": "@jupyter-widgets/base",
       "_model_module_version": "1.2.0",
       "_model_name": "LayoutModel",
       "_view_count": null,
       "_view_module": "@jupyter-widgets/base",
       "_view_module_version": "1.2.0",
       "_view_name": "LayoutView",
       "align_content": null,
       "align_items": null,
       "align_self": null,
       "border": null,
       "bottom": null,
       "display": null,
       "flex": null,
       "flex_flow": null,
       "grid_area": null,
       "grid_auto_columns": null,
       "grid_auto_flow": null,
       "grid_auto_rows": null,
       "grid_column": null,
       "grid_gap": null,
       "grid_row": null,
       "grid_template_areas": null,
       "grid_template_columns": null,
       "grid_template_rows": null,
       "height": null,
       "justify_content": null,
       "justify_items": null,
       "left": null,
       "margin": null,
       "max_height": null,
       "max_width": null,
       "min_height": null,
       "min_width": null,
       "object_fit": null,
       "object_position": null,
       "order": null,
       "overflow": null,
       "overflow_x": null,
       "overflow_y": null,
       "padding": null,
       "right": null,
       "top": null,
       "visibility": null,
       "width": null
      }
     },
     "b9b0ac6dd7294cdab5d357eb4b24331d": {
      "model_module": "@jupyter-widgets/controls",
      "model_module_version": "1.5.0",
      "model_name": "DescriptionStyleModel",
      "state": {
       "_model_module": "@jupyter-widgets/controls",
       "_model_module_version": "1.5.0",
       "_model_name": "DescriptionStyleModel",
       "_view_count": null,
       "_view_module": "@jupyter-widgets/base",
       "_view_module_version": "1.2.0",
       "_view_name": "StyleView",
       "description_width": ""
      }
     },
     "be6998c072d9447d841f9aa1ffb18a1e": {
      "model_module": "@jupyter-widgets/controls",
      "model_module_version": "1.5.0",
      "model_name": "HTMLModel",
      "state": {
       "_dom_classes": [],
       "_model_module": "@jupyter-widgets/controls",
       "_model_module_version": "1.5.0",
       "_model_name": "HTMLModel",
       "_view_count": null,
       "_view_module": "@jupyter-widgets/controls",
       "_view_module_version": "1.5.0",
       "_view_name": "HTMLView",
       "description": "",
       "description_tooltip": null,
       "layout": "IPY_MODEL_7cf2cf551706482298c742be686354db",
       "placeholder": "​",
       "style": "IPY_MODEL_6751c2b4045e4ffb8452ecd309ecc2e8",
       "value": "tokenizer.json: 100%"
      }
     },
     "c77c2eab8b61474c8220bb08bb699005": {
      "model_module": "@jupyter-widgets/controls",
      "model_module_version": "1.5.0",
      "model_name": "HBoxModel",
      "state": {
       "_dom_classes": [],
       "_model_module": "@jupyter-widgets/controls",
       "_model_module_version": "1.5.0",
       "_model_name": "HBoxModel",
       "_view_count": null,
       "_view_module": "@jupyter-widgets/controls",
       "_view_module_version": "1.5.0",
       "_view_name": "HBoxView",
       "box_style": "",
       "children": [
        "IPY_MODEL_831bd6b737c44994a9f725bad3c63e8a",
        "IPY_MODEL_5adb58ccaf78414a955b15e210f47591",
        "IPY_MODEL_6ab974cb2b2249668458094e23d35ad3"
       ],
       "layout": "IPY_MODEL_54a4f2d038da4a8eb0b8575979304a0f"
      }
     },
     "c82ff8aed4cf409f9d8a818e1695fea9": {
      "model_module": "@jupyter-widgets/base",
      "model_module_version": "1.2.0",
      "model_name": "LayoutModel",
      "state": {
       "_model_module": "@jupyter-widgets/base",
       "_model_module_version": "1.2.0",
       "_model_name": "LayoutModel",
       "_view_count": null,
       "_view_module": "@jupyter-widgets/base",
       "_view_module_version": "1.2.0",
       "_view_name": "LayoutView",
       "align_content": null,
       "align_items": null,
       "align_self": null,
       "border": null,
       "bottom": null,
       "display": null,
       "flex": null,
       "flex_flow": null,
       "grid_area": null,
       "grid_auto_columns": null,
       "grid_auto_flow": null,
       "grid_auto_rows": null,
       "grid_column": null,
       "grid_gap": null,
       "grid_row": null,
       "grid_template_areas": null,
       "grid_template_columns": null,
       "grid_template_rows": null,
       "height": null,
       "justify_content": null,
       "justify_items": null,
       "left": null,
       "margin": null,
       "max_height": null,
       "max_width": null,
       "min_height": null,
       "min_width": null,
       "object_fit": null,
       "object_position": null,
       "order": null,
       "overflow": null,
       "overflow_x": null,
       "overflow_y": null,
       "padding": null,
       "right": null,
       "top": null,
       "visibility": null,
       "width": null
      }
     },
     "ce786a3070b54f5bb60ffca4b3bbd8ad": {
      "model_module": "@jupyter-widgets/base",
      "model_module_version": "1.2.0",
      "model_name": "LayoutModel",
      "state": {
       "_model_module": "@jupyter-widgets/base",
       "_model_module_version": "1.2.0",
       "_model_name": "LayoutModel",
       "_view_count": null,
       "_view_module": "@jupyter-widgets/base",
       "_view_module_version": "1.2.0",
       "_view_name": "LayoutView",
       "align_content": null,
       "align_items": null,
       "align_self": null,
       "border": null,
       "bottom": null,
       "display": null,
       "flex": null,
       "flex_flow": null,
       "grid_area": null,
       "grid_auto_columns": null,
       "grid_auto_flow": null,
       "grid_auto_rows": null,
       "grid_column": null,
       "grid_gap": null,
       "grid_row": null,
       "grid_template_areas": null,
       "grid_template_columns": null,
       "grid_template_rows": null,
       "height": null,
       "justify_content": null,
       "justify_items": null,
       "left": null,
       "margin": null,
       "max_height": null,
       "max_width": null,
       "min_height": null,
       "min_width": null,
       "object_fit": null,
       "object_position": null,
       "order": null,
       "overflow": null,
       "overflow_x": null,
       "overflow_y": null,
       "padding": null,
       "right": null,
       "top": null,
       "visibility": null,
       "width": null
      }
     },
     "d085d53a075f46ffb4ef1a9aa95a48dd": {
      "model_module": "@jupyter-widgets/base",
      "model_module_version": "1.2.0",
      "model_name": "LayoutModel",
      "state": {
       "_model_module": "@jupyter-widgets/base",
       "_model_module_version": "1.2.0",
       "_model_name": "LayoutModel",
       "_view_count": null,
       "_view_module": "@jupyter-widgets/base",
       "_view_module_version": "1.2.0",
       "_view_name": "LayoutView",
       "align_content": null,
       "align_items": null,
       "align_self": null,
       "border": null,
       "bottom": null,
       "display": null,
       "flex": null,
       "flex_flow": null,
       "grid_area": null,
       "grid_auto_columns": null,
       "grid_auto_flow": null,
       "grid_auto_rows": null,
       "grid_column": null,
       "grid_gap": null,
       "grid_row": null,
       "grid_template_areas": null,
       "grid_template_columns": null,
       "grid_template_rows": null,
       "height": null,
       "justify_content": null,
       "justify_items": null,
       "left": null,
       "margin": null,
       "max_height": null,
       "max_width": null,
       "min_height": null,
       "min_width": null,
       "object_fit": null,
       "object_position": null,
       "order": null,
       "overflow": null,
       "overflow_x": null,
       "overflow_y": null,
       "padding": null,
       "right": null,
       "top": null,
       "visibility": null,
       "width": null
      }
     },
     "d6fbd88f73194de8947ff4dc83c79cce": {
      "model_module": "@jupyter-widgets/controls",
      "model_module_version": "1.5.0",
      "model_name": "DescriptionStyleModel",
      "state": {
       "_model_module": "@jupyter-widgets/controls",
       "_model_module_version": "1.5.0",
       "_model_name": "DescriptionStyleModel",
       "_view_count": null,
       "_view_module": "@jupyter-widgets/base",
       "_view_module_version": "1.2.0",
       "_view_name": "StyleView",
       "description_width": ""
      }
     },
     "dd3181e4aa854f5e871587bcd2d1fb1a": {
      "model_module": "@jupyter-widgets/base",
      "model_module_version": "1.2.0",
      "model_name": "LayoutModel",
      "state": {
       "_model_module": "@jupyter-widgets/base",
       "_model_module_version": "1.2.0",
       "_model_name": "LayoutModel",
       "_view_count": null,
       "_view_module": "@jupyter-widgets/base",
       "_view_module_version": "1.2.0",
       "_view_name": "LayoutView",
       "align_content": null,
       "align_items": null,
       "align_self": null,
       "border": null,
       "bottom": null,
       "display": null,
       "flex": null,
       "flex_flow": null,
       "grid_area": null,
       "grid_auto_columns": null,
       "grid_auto_flow": null,
       "grid_auto_rows": null,
       "grid_column": null,
       "grid_gap": null,
       "grid_row": null,
       "grid_template_areas": null,
       "grid_template_columns": null,
       "grid_template_rows": null,
       "height": null,
       "justify_content": null,
       "justify_items": null,
       "left": null,
       "margin": null,
       "max_height": null,
       "max_width": null,
       "min_height": null,
       "min_width": null,
       "object_fit": null,
       "object_position": null,
       "order": null,
       "overflow": null,
       "overflow_x": null,
       "overflow_y": null,
       "padding": null,
       "right": null,
       "top": null,
       "visibility": null,
       "width": null
      }
     },
     "ddbbc0c023e7491fbc747ebb7ba447ab": {
      "model_module": "@jupyter-widgets/controls",
      "model_module_version": "1.5.0",
      "model_name": "ProgressStyleModel",
      "state": {
       "_model_module": "@jupyter-widgets/controls",
       "_model_module_version": "1.5.0",
       "_model_name": "ProgressStyleModel",
       "_view_count": null,
       "_view_module": "@jupyter-widgets/base",
       "_view_module_version": "1.2.0",
       "_view_name": "StyleView",
       "bar_color": null,
       "description_width": ""
      }
     },
     "e68da43e09ec4caa8bec218ee298775a": {
      "model_module": "@jupyter-widgets/base",
      "model_module_version": "1.2.0",
      "model_name": "LayoutModel",
      "state": {
       "_model_module": "@jupyter-widgets/base",
       "_model_module_version": "1.2.0",
       "_model_name": "LayoutModel",
       "_view_count": null,
       "_view_module": "@jupyter-widgets/base",
       "_view_module_version": "1.2.0",
       "_view_name": "LayoutView",
       "align_content": null,
       "align_items": null,
       "align_self": null,
       "border": null,
       "bottom": null,
       "display": null,
       "flex": null,
       "flex_flow": null,
       "grid_area": null,
       "grid_auto_columns": null,
       "grid_auto_flow": null,
       "grid_auto_rows": null,
       "grid_column": null,
       "grid_gap": null,
       "grid_row": null,
       "grid_template_areas": null,
       "grid_template_columns": null,
       "grid_template_rows": null,
       "height": null,
       "justify_content": null,
       "justify_items": null,
       "left": null,
       "margin": null,
       "max_height": null,
       "max_width": null,
       "min_height": null,
       "min_width": null,
       "object_fit": null,
       "object_position": null,
       "order": null,
       "overflow": null,
       "overflow_x": null,
       "overflow_y": null,
       "padding": null,
       "right": null,
       "top": null,
       "visibility": null,
       "width": null
      }
     },
     "ea9b713c096a4af2b8a3cabe59c945b1": {
      "model_module": "@jupyter-widgets/controls",
      "model_module_version": "1.5.0",
      "model_name": "FloatProgressModel",
      "state": {
       "_dom_classes": [],
       "_model_module": "@jupyter-widgets/controls",
       "_model_module_version": "1.5.0",
       "_model_name": "FloatProgressModel",
       "_view_count": null,
       "_view_module": "@jupyter-widgets/controls",
       "_view_module_version": "1.5.0",
       "_view_name": "ProgressView",
       "bar_style": "success",
       "description": "",
       "description_tooltip": null,
       "layout": "IPY_MODEL_9f345c11291a4920a45a4638c1bb59b1",
       "max": 49,
       "min": 0,
       "orientation": "horizontal",
       "style": "IPY_MODEL_6691c98edc6641389c1500efdec9885a",
       "value": 49
      }
     },
     "f8757b28a4704ea8becc7d359f51a5c2": {
      "model_module": "@jupyter-widgets/controls",
      "model_module_version": "1.5.0",
      "model_name": "HTMLModel",
      "state": {
       "_dom_classes": [],
       "_model_module": "@jupyter-widgets/controls",
       "_model_module_version": "1.5.0",
       "_model_name": "HTMLModel",
       "_view_count": null,
       "_view_module": "@jupyter-widgets/controls",
       "_view_module_version": "1.5.0",
       "_view_name": "HTMLView",
       "description": "",
       "description_tooltip": null,
       "layout": "IPY_MODEL_a312bcae3f3d4a79a4e0be12a82cd3d0",
       "placeholder": "​",
       "style": "IPY_MODEL_376891e4498e4fc0b9bf6500c8524adf",
       "value": "tokenizer_config.json: 100%"
      }
     }
    },
    "version_major": 2,
    "version_minor": 0
   }
  }
 },
 "nbformat": 4,
 "nbformat_minor": 5
}
