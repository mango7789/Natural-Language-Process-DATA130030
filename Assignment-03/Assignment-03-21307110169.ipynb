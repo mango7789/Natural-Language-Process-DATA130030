{
 "cells": [
  {
   "cell_type": "code",
   "execution_count": null,
   "id": "a067b932",
   "metadata": {},
   "outputs": [],
   "source": [
    "# --- Before your go ----\n",
    "# 1. Rename Assignment-03-###.ipynb where ### is your student ID.\n",
    "# 2. The deadline of Assignment-03 is 23:59pm, 06-05-2024\n",
    "\n",
    "\n",
    "# --- Explore HMM POS Taggers using Brown corpus ---\n",
    "# In this assignment, you will explore three taggers for a Brown corpus.\n",
    "# import your packages here"
   ]
  },
  {
   "cell_type": "code",
   "execution_count": null,
   "id": "8bb55db3",
   "metadata": {},
   "outputs": [],
   "source": [
    "\n",
    "# Task 1 --- Load and explore your data ---\n",
    "# 1). load train/test samples from Brown corpus files, brown-train.txt, brown-test.txt.\n",
    "# 2). load all 12 tags from brown-tag.txt and print it out\n",
    "# 3). counting how many sentences and words in both train and test datasets.\n",
    "# 4). for each tag, counting how many words in train and test. e.g, tag1: [count_tr, count_te]\n",
    "\n",
    "# Your code"
   ]
  },
  {
   "cell_type": "markdown",
   "id": "c058252a",
   "metadata": {},
   "source": [
    "### 1.1 load train/test samples"
   ]
  },
  {
   "cell_type": "code",
   "execution_count": 21,
   "id": "97e58fb7",
   "metadata": {},
   "outputs": [],
   "source": [
    "def open_brown_files(type: str) -> tuple[list]:\n",
    "    \"\"\"\n",
    "    Open the Brown corpus files based on the given type.\n",
    "    \n",
    "    Args:\n",
    "    - type: The type of the Brown corpus, should be in ['train', 'test', 'tag'].\n",
    "    \n",
    "    Return:\n",
    "    - content: The content of the corpus.\n",
    "    \"\"\"\n",
    "    assert type in ['train', 'test', 'tag']\n",
    "    \n",
    "    # open the corpus file and read header/content from it\n",
    "    with open(\"brown-{}.txt\".format(type), 'r', encoding='utf-8') as f:\n",
    "        content = [line.strip() for line in f.readlines()]\n",
    "            \n",
    "    return content\n",
    "        \n",
    "train_content = open_brown_files('train')\n",
    "test_content = open_brown_files('test')"
   ]
  },
  {
   "cell_type": "markdown",
   "id": "c286d202",
   "metadata": {},
   "source": [
    "### 1.2 load all tags"
   ]
  },
  {
   "cell_type": "code",
   "execution_count": 12,
   "id": "b2302eb9",
   "metadata": {},
   "outputs": [
    {
     "name": "stdout",
     "output_type": "stream",
     "text": [
      "['.', 'ADJ', 'ADP', 'ADV', 'CONJ', 'DET', 'NOUN', 'NUM', 'PRON', 'PRT', 'VERB', 'X']\n"
     ]
    }
   ],
   "source": [
    "tag_content = open_brown_files('tag')\n",
    "print(tag_content)"
   ]
  },
  {
   "cell_type": "markdown",
   "id": "5bf290c5",
   "metadata": {},
   "source": [
    "### 1.3 count sentences and words"
   ]
  },
  {
   "cell_type": "code",
   "execution_count": 32,
   "id": "5800e3b8",
   "metadata": {},
   "outputs": [
    {
     "name": "stdout",
     "output_type": "stream",
     "text": [
      "type     sentences     words\n",
      "============================\n",
      "train      45800      810604\n",
      "test       11540      203023\n"
     ]
    }
   ],
   "source": [
    "INTERVAL = \" \" * 4\n",
    "\n",
    "def count_sentence_word(content: list[str]) -> tuple[int]:\n",
    "    \"\"\"\n",
    "    Count the number of sentences and words in the given content.\n",
    "    \n",
    "    Args:\n",
    "    - content: A list of string returned by the function `open_brown_files`.\n",
    "    \n",
    "    Return:\n",
    "    - num_sentence: The number of sentences in the given content.\n",
    "    - num_word: The number of words in the given content.\n",
    "    \"\"\"\n",
    "    num_sentence, num_word = 0, 0\n",
    "    \n",
    "    for line in content:\n",
    "        # if the line startwith \"b100-\", then it's the start of a sentence\n",
    "        if line.startswith('b100-'):\n",
    "            num_sentence += 1\n",
    "            continue\n",
    "        # if line is empty, then the we reach the end of a sentence\n",
    "        if line == '':\n",
    "            continue\n",
    "        # if the tag is not '.', then the text in the line is a word\n",
    "        tag = line.split('\\t')[1]\n",
    "        if tag != '.':\n",
    "            num_word += 1\n",
    "    return num_sentence, num_word\n",
    "    \n",
    "train_sentence, train_word = count_sentence_word(train_content)\n",
    "test_sentence, test_word = count_sentence_word(test_content)\n",
    "\n",
    "# print the results\n",
    "print(\"type \" + INTERVAL + \"sentences\" + INTERVAL + \" words\")\n",
    "print(\"=\" * 28)\n",
    "print(\"train\" + INTERVAL + f\"{train_sentence:^9}\" + INTERVAL + f\"{train_word:^5}\") \n",
    "print(\"test \" + INTERVAL + f\"{test_sentence:^9}\" + INTERVAL + f\"{test_word:^5}\") "
   ]
  },
  {
   "cell_type": "markdown",
   "id": "23570945",
   "metadata": {},
   "source": [
    "### 1.4 count frequency of each tag"
   ]
  },
  {
   "cell_type": "code",
   "execution_count": 34,
   "id": "1d8624ca",
   "metadata": {},
   "outputs": [
    {
     "name": "stdout",
     "output_type": "stream",
     "text": [
      "   .: [117723,  29842]\n",
      " ADJ: [ 66985,  16736]\n",
      " ADP: [115752,  29014]\n",
      " ADV: [ 44765,  11474]\n",
      "CONJ: [ 30455,   7696]\n",
      " DET: [109418,  27601]\n",
      "NOUN: [220451,  55107]\n",
      " NUM: [ 11921,   2953]\n",
      "PRON: [ 39657,   9677]\n",
      " PRT: [ 23889,   5940]\n",
      "VERB: [146199,  36551]\n",
      "   X: [  1112,    274]\n"
     ]
    }
   ],
   "source": [
    "def count_frequency_tag(content: list[str]) -> dict:\n",
    "    \"\"\"\n",
    "    Count the ocurr frequency of each tag in the given content.\n",
    "    \n",
    "    Args:\n",
    "    - content: A list of string returned by the function `open_brown_files`.\n",
    "    \n",
    "    Return:\n",
    "    - tag_count: A dict containing the information of frequency of each tag.\n",
    "    \"\"\"\n",
    "    tag_count = {tag: 0 for tag in tag_content}\n",
    "    \n",
    "    for line in content:\n",
    "        if line.startswith(\"b100-\") or line == '':\n",
    "            continue\n",
    "        curr_tag = line.split('\\t')[1]\n",
    "        tag_count[curr_tag] += 1\n",
    "        \n",
    "    return tag_count\n",
    "\n",
    "train_tag_freq = count_frequency_tag(train_content)\n",
    "test_tag_freq = count_frequency_tag(test_content)\n",
    "\n",
    "for tag in tag_content:\n",
    "    print(\"{:>4}: [{:>6}, {:>6}]\".format(tag, train_tag_freq[tag], test_tag_freq[tag]))\n"
   ]
  },
  {
   "cell_type": "code",
   "execution_count": null,
   "id": "4d633df3",
   "metadata": {},
   "outputs": [],
   "source": [
    "# Task 2 --- Method 1: Build a baseline method, namely, the most frequent tagger ---\n",
    "#     If you can recall, we introduced a strong baseline method (See Dan's book in \n",
    "# https://web.stanford.edu/~jurafsky/slp3/ed3book_jan72023.pdf Page 164.),\n",
    "#     where we label each word by using the most frequent-used tag associated with it.\n",
    "# 1). find the most frequent class label for each word in the training data.\n",
    "#     For example, {tr_word_1:tag_1,tr_word_2:tag_2,...}\n",
    "# 2). use your b`uilt method to predict tags for both train and test datasets.\n",
    "#     You should print out two values: the accuracies of train and test samples.\n",
    "#     You would expect that the accuracy on train will be > 0.9 (but never = 1.0) and higher than on test.\n",
    "\n",
    "# Notice: since there are unkown words in test samples. \n",
    "#  Following ways could handle this (choose one or create your own): \n",
    "#  1). mark all words that appear only once in the data with a \"UNK-x\" tag\n",
    "#  2). tag every out-of-vocabulary word with the majority tag among all training samples.\n",
    "#  3). find more methods in https://github.com/Adamouization/POS-Tagging-and-Unknown-Words\n",
    "\n",
    "# Your code"
   ]
  },
  {
   "cell_type": "code",
   "execution_count": null,
   "id": "e38802c7",
   "metadata": {},
   "outputs": [],
   "source": [
    "# Task 3 --- Method 2: Build an HMM tagger ---\n",
    "# 1) You should use nltk.tag.HiddenMarkovModelTagger to build an HMM tagger.\n",
    "#    It has parameters: symbols, states, transitions, outputs, priors, transform (ignore it).\n",
    "#    Specify these parameters properly. For example, you can use MLE to estimate transitions, outputs and priors.\n",
    "#    That is, MLE to estimate matrix A (transition matrix), and matrix B (output probabilites) (See. Page 8.4.3)\n",
    "# 2) After build your model, report both the accuracy of HMM tagger for train samples and test samples.\n",
    "# \n",
    "# 3) Compared with your baseline method, discuss that why your HMM tagger is better/worse than baseline method.\n",
    "\n",
    "# Notice: You may also need to handle unknown words just like Task 2.\n",
    "\n",
    "# Your code"
   ]
  },
  {
   "cell_type": "code",
   "execution_count": null,
   "id": "c58ab053",
   "metadata": {},
   "outputs": [],
   "source": [
    "# Task 4 --- Method 3: Fine-tuning on BERT-base model for POS-tagging ---\n",
    "# \n",
    "# 1) You may download a BERT model (say, you choose BERT-base cased) \n",
    "#    and use tools in https://github.com/huggingface/transformers\n",
    "# \n",
    "# 2) After build your model, report both the accuracy of BERT tagger for train samples and test samples.\n",
    "# \n",
    "# 3) Compared with Method 1,2, discuss that why your BERT tagger is better/worse than these two."
   ]
  }
 ],
 "metadata": {
  "kernelspec": {
   "display_name": "Python 3 (ipykernel)",
   "language": "python",
   "name": "python3"
  },
  "language_info": {
   "codemirror_mode": {
    "name": "ipython",
    "version": 3
   },
   "file_extension": ".py",
   "mimetype": "text/x-python",
   "name": "python",
   "nbconvert_exporter": "python",
   "pygments_lexer": "ipython3",
   "version": "3.11.6"
  }
 },
 "nbformat": 4,
 "nbformat_minor": 5
}
